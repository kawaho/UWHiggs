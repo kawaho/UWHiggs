{
 "cells": [
  {
   "cell_type": "markdown",
   "metadata": {},
   "source": [
    "# HTT working meeting tutorial: How to train a multi-class neural network"
   ]
  },
  {
   "cell_type": "code",
   "execution_count": 1,
   "metadata": {},
   "outputs": [
    {
     "name": "stdout",
     "output_type": "stream",
     "text": [
      "Requirement already satisfied: wget in /afs/hep.wisc.edu/user/psiddire/.local/lib/python2.7/site-packages\n"
     ]
    },
    {
     "name": "stderr",
     "output_type": "stream",
     "text": [
      "You are using pip version 9.0.1, however version 19.0.2 is available.\n",
      "You should consider upgrading via the 'pip install --upgrade pip' command.\n"
     ]
    }
   ],
   "source": [
    "%%bash\n",
    "# Install the python packages wget via pip locally\n",
    "pip install --user wget"
   ]
  },
  {
   "cell_type": "markdown",
   "metadata": {},
   "source": [
    "## Download the training dataset"
   ]
  },
  {
   "cell_type": "markdown",
   "metadata": {},
   "source": [
    "## Extract variables and event weights from the dataset\n",
    "\n",
    "Note that the column `training_weight` of the dataset is actually filled with the plotting weights (aka event weights)."
   ]
  },
  {
   "cell_type": "code",
   "execution_count": 1,
   "metadata": {},
   "outputs": [
    {
     "name": "stdout",
     "output_type": "stream",
     "text": [
      "Welcome to JupyROOT 6.14/04\n",
      "           pt_1        pt_2        m_sv          mjj  training_weight\n",
      "0     30.077490   37.230450  133.870728   107.264275         0.006194\n",
      "1     52.040379   45.533375  112.238113    37.135574         0.005604\n",
      "2     39.720085   30.551704  105.527939   338.464905         0.005377\n",
      "3     34.477676   41.167690  111.119858   -11.000000         0.005935\n",
      "4     52.521873   33.147522  122.413986  1073.543457         0.006253\n",
      "5     46.549671   32.486320  106.732590    29.103359         0.005773\n",
      "6     26.148962   37.759727  139.168243    71.211395         0.005496\n",
      "7     45.587917   46.390606  103.425819  2145.035400         0.005277\n",
      "8     25.303339   55.061531  110.328293   694.203674         0.005251\n",
      "9     42.549690   68.646004  132.788849   745.880493         0.005839\n",
      "10    31.618233   40.076077   93.313187  1611.798584         0.005435\n",
      "11    62.406921   55.881641  128.867981   434.881775         0.005451\n",
      "12    31.248795   40.245235  112.653351  1651.349121         0.005529\n",
      "13    35.324539   39.817215  113.909729  1061.082764         0.002118\n",
      "14    61.982307   55.044525  140.307800   640.586121         0.005503\n",
      "15    56.327946   34.655540  135.099731   734.419312         0.005725\n",
      "16    21.541716   36.043842  162.915009   -11.000000         0.004688\n",
      "17    53.864044   72.703110  110.123703    85.439171         0.004470\n",
      "18    63.427368   32.321281  123.648422   -11.000000         0.005761\n",
      "19    30.592606   30.968002   87.872520   217.254303         0.005676\n",
      "20    36.039490   41.559071  120.368393  3655.071777         0.005787\n",
      "21    39.965485  112.111275  134.492798   102.502975         0.002520\n",
      "22    81.035133   34.157333  114.851151   240.460922         0.005425\n",
      "23    55.452606   31.941490  101.903168   341.605530         0.005827\n",
      "24    42.745220   39.753807  131.521408   -11.000000         0.005917\n",
      "25    30.761694   30.223568  127.302353   -11.000000         0.005172\n",
      "26    24.510555   60.476650   92.621727   380.328186         0.005237\n",
      "27    47.496647   47.165760   99.924225  1705.347534         0.005726\n",
      "28    27.398094   62.194843  134.554245   466.180817         0.005543\n",
      "29    20.210968  143.876007  105.689880   454.315552         0.002550\n",
      "...         ...         ...         ...          ...              ...\n",
      "8785  65.065308  102.971146  114.632790   740.768921         0.002928\n",
      "8786  79.020889   95.254150  133.632019   619.019714         0.002558\n",
      "8787  29.246666   33.764515  118.581711   -11.000000         0.005430\n",
      "8788  55.881676   41.300915  122.886490   920.446411         0.005505\n",
      "8789  34.654388   67.744102  144.862106   544.228699         0.005405\n",
      "8790  38.081867   36.344368  136.349518   242.423157         0.005869\n",
      "8791  31.426630   37.500023  126.271744  1334.658569         0.001378\n",
      "8792  44.724724   42.654846   97.552826    46.890831         0.005696\n",
      "8793  33.551197   64.648476  126.433044   229.184479         0.005554\n",
      "8794  29.356647   67.450348  161.468079   603.982361         0.005259\n",
      "8795  35.794716   36.386852  139.796356   -11.000000         0.005484\n",
      "8796  89.878876   94.740829  124.427643  1563.615601         0.003999\n",
      "8797  24.189707   79.228889   97.349373   362.697021         0.005856\n",
      "8798  45.484062   41.765732   97.925728   -11.000000         0.005479\n",
      "8799  26.969212   77.569191  166.814316   -11.000000         0.005419\n",
      "8800  23.498302   64.164116  124.887344    25.455845         0.005659\n",
      "8801  24.309242  108.920303  122.563797  1464.619507         0.002316\n",
      "8802  28.088995  119.755096  138.167160   384.513977         0.005821\n",
      "8803  31.096779   97.995529  118.830688   866.131470         0.006254\n",
      "8804  39.333996   73.738556  165.486359   520.534363         0.006574\n",
      "8805  51.095009   53.177834  127.485962   -11.000000         0.005464\n",
      "8806  21.645359   32.258137   81.121979   213.937347         0.006080\n",
      "8807  33.784443   73.233856  141.968781   535.869507         0.006043\n",
      "8808  30.427591   32.810364   87.147598   112.485840         0.005227\n",
      "8809  35.840328   33.692745  108.800568   259.118774         0.003263\n",
      "8810  22.633257   42.516747  114.693146   -11.000000         0.005348\n",
      "8811  44.111683   37.205212  128.087189   128.770508         0.005329\n",
      "8812  20.464235   51.897758  102.845856   203.526215         0.005218\n",
      "8813  52.934216   32.390175  121.283447   286.525970         0.005529\n",
      "8814  28.098097   44.506542  129.872833   371.742126         0.005451\n",
      "\n",
      "[8815 rows x 5 columns]\n"
     ]
    }
   ],
   "source": [
    "import ROOT\n",
    "import pandas\n",
    "import numpy as np\n",
    "np.random.seed(1234)\n",
    "\n",
    "filename = \"training_dataset.root\"\n",
    "# Specify variables which shall be used as input for the neural network\n",
    "variables = [\"pt_1\", \"pt_2\", \"m_sv\", \"mjj\"]\n",
    "\n",
    "def load_tree(filename, treename):\n",
    "    f = ROOT.TFile(filename)\n",
    "    t = f.Get(treename)\n",
    "    data, labels = t.AsMatrix(columns=variables + [\"training_weight\"], return_labels=True)\n",
    "    return pandas.DataFrame(data=data, columns=labels)\n",
    "\n",
    "# Load data from ROOT TTrees to panda dataframes\n",
    "qqh = load_tree(filename, \"qqh\")\n",
    "ztt = load_tree(filename, \"ztt\")\n",
    "qcd = load_tree(filename, \"ss\")\n",
    "\n",
    "# Show the content of a dataframe\n",
    "print(qqh)"
   ]
  },
  {
   "cell_type": "markdown",
   "metadata": {},
   "source": [
    "## Reweight the event weights for training\n",
    "\n",
    "The event weights need to be reweighted for training so that each process goes in with equal importance."
   ]
  },
  {
   "cell_type": "code",
   "execution_count": 2,
   "metadata": {},
   "outputs": [],
   "source": [
    "# Sum of all event weights is needed for reweighting to equal importance\n",
    "sum_weights = np.sum(qqh[\"training_weight\"]) + np.sum(ztt[\"training_weight\"]) + np.sum(qcd[\"training_weight\"])\n",
    "\n",
    "# Function to reweight the weights to equal importance\n",
    "def reweight(df):\n",
    "    df[\"training_weight_reweighted\"] = df[\"training_weight\"] * sum_weights / np.sum(df[\"training_weight\"])\n",
    "\n",
    "# Run the reweighting on the pandas dataframe\n",
    "reweight(qqh)\n",
    "reweight(ztt)\n",
    "reweight(qcd)"
   ]
  },
  {
   "cell_type": "markdown",
   "metadata": {},
   "source": [
    "## Plot variables with reweighted event weights\n",
    "\n",
    "These are the distributions that the NN sees during training."
   ]
  },
  {
   "cell_type": "code",
   "execution_count": 3,
   "metadata": {
    "scrolled": false
   },
   "outputs": [],
   "source": [
    "import matplotlib.pyplot as plt\n",
    "\n",
    "# Function to plot a variable\n",
    "def plot(variable):\n",
    "    plt.figure()\n",
    "    range_ = np.percentile(qqh[variable], (5, 95))\n",
    "    plt.hist(\n",
    "        [qqh[variable], ztt[variable], qcd[variable]],\n",
    "        range=range_,\n",
    "        bins=30,\n",
    "        weights=[\n",
    "            qqh[\"training_weight_reweighted\"],\n",
    "            ztt[\"training_weight_reweighted\"],\n",
    "            qcd[\"training_weight_reweighted\"]],\n",
    "        histtype=\"step\",\n",
    "        lw=2,\n",
    "        label=(\"qqh\",\"ztt\", \"qcd\"))\n",
    "    plt.xlabel(variable)\n",
    "    plt.legend()\n",
    "\n",
    "# Loop over variables and plot each one\n",
    "for var in variables:\n",
    "    plot(var)"
   ]
  },
  {
   "cell_type": "markdown",
   "metadata": {},
   "source": [
    "## Prepare data for training\n",
    "\n",
    "The data needs to be put in a predefined shape so that Keras understands the inputs."
   ]
  },
  {
   "cell_type": "code",
   "execution_count": 4,
   "metadata": {},
   "outputs": [
    {
     "name": "stdout",
     "output_type": "stream",
     "text": [
      "Variables:\n",
      "['pt_1', 'pt_2', 'm_sv', 'mjj']\n",
      "\n",
      "Inputs:\n",
      "[[ 30.07748985  37.23044968 133.87072754 107.2642746 ]\n",
      " [ 52.04037857  45.53337479 112.2381134   37.13557434]\n",
      " [ 39.72008514  30.55170441 105.52793884 338.46490479]\n",
      " ...\n",
      " [ 33.68743134  34.11830902 104.98097229 -11.        ]\n",
      " [ 29.27093697  30.96722221  95.13156128 -11.        ]\n",
      " [ 32.91968155  31.3677063  146.67391968 -11.        ]]\n",
      "\n",
      "Weights:\n",
      "[11.27017103 10.1963477   9.78446046 ...  5.2689025   5.2689025\n",
      "  5.2689025 ]\n",
      "\n",
      "Targets:\n",
      "[[1. 0. 0.]\n",
      " [1. 0. 0.]\n",
      " [1. 0. 0.]\n",
      " ...\n",
      " [0. 0. 1.]\n",
      " [0. 0. 1.]\n",
      " [0. 0. 1.]]\n",
      "\n"
     ]
    },
    {
     "name": "stderr",
     "output_type": "stream",
     "text": [
      "/cvmfs/sft.cern.ch/lcg/views/LCG_94/x86_64-centos7-gcc8-opt/lib/python2.7/site-packages/ipykernel_launcher.py:3: FutureWarning: Method .as_matrix will be removed in a future version. Use .values instead.\n",
      "  This is separate from the ipykernel package so we can avoid doing imports until\n",
      "/cvmfs/sft.cern.ch/lcg/views/LCG_94/x86_64-centos7-gcc8-opt/lib/python2.7/site-packages/ipykernel_launcher.py:4: FutureWarning: Method .as_matrix will be removed in a future version. Use .values instead.\n",
      "  after removing the cwd from sys.path.\n"
     ]
    }
   ],
   "source": [
    "# Function to extract numpy array from pandas dataframe\n",
    "def load_data(df, index):\n",
    "    x = df.as_matrix(columns=variables)\n",
    "    w = df.as_matrix(columns=[\"training_weight_reweighted\"])\n",
    "    y = np.zeros((x.shape[0], 3))\n",
    "    y[:, index] = 1\n",
    "    return x, w, y\n",
    "\n",
    "# Load data from dataframe to numpy arrays\n",
    "qqh_x, qqh_w, qqh_y = load_data(qqh, 0)\n",
    "ztt_x, ztt_w, ztt_y = load_data(ztt, 1)\n",
    "qcd_x, qcd_w, qcd_y = load_data(qcd, 2)\n",
    "\n",
    "# Stack numpy arrays of different processes to single array\n",
    "x = np.vstack([qqh_x, ztt_x, qcd_x])\n",
    "w = np.vstack([qqh_w, ztt_w, qcd_w]).squeeze()\n",
    "y = np.vstack([qqh_y, ztt_y, qcd_y])\n",
    "\n",
    "# Print what we are doing\n",
    "print(\"Variables:\\n{}\\n\".format(variables))\n",
    "print(\"Inputs:\\n{}\\n\".format(x))\n",
    "print(\"Weights:\\n{}\\n\".format(w))\n",
    "print(\"Targets:\\n{}\\n\".format(y))"
   ]
  },
  {
   "cell_type": "markdown",
   "metadata": {},
   "source": [
    "## Define neural network architecture"
   ]
  },
  {
   "cell_type": "code",
   "execution_count": 5,
   "metadata": {},
   "outputs": [
    {
     "name": "stderr",
     "output_type": "stream",
     "text": [
      "Using Theano backend.\n"
     ]
    },
    {
     "name": "stdout",
     "output_type": "stream",
     "text": [
      "_________________________________________________________________\n",
      "Layer (type)                 Output Shape              Param #   \n",
      "=================================================================\n",
      "dense_1 (Dense)              (None, 100)               500       \n",
      "_________________________________________________________________\n",
      "dropout_1 (Dropout)          (None, 100)               0         \n",
      "_________________________________________________________________\n",
      "dense_2 (Dense)              (None, 3)                 303       \n",
      "=================================================================\n",
      "Total params: 803\n",
      "Trainable params: 803\n",
      "Non-trainable params: 0\n",
      "_________________________________________________________________\n"
     ]
    }
   ],
   "source": [
    "from keras.models import Sequential\n",
    "from keras.layers import Dense, Dropout\n",
    "\n",
    "# Stack layers defining neural network architecture\n",
    "model = Sequential()\n",
    "model.add(Dense(100, activation=\"relu\", input_dim=len(variables)))\n",
    "model.add(Dropout(0.2))\n",
    "model.add(Dense(3, activation=\"softmax\"))\n",
    "\n",
    "# Specify loss function and optimizer algorithm\n",
    "model.compile(loss=\"categorical_crossentropy\", optimizer=\"adam\")\n",
    "\n",
    "# Print architecture\n",
    "model.summary()"
   ]
  },
  {
   "cell_type": "markdown",
   "metadata": {},
   "source": [
    "## Train the model"
   ]
  },
  {
   "cell_type": "code",
   "execution_count": null,
   "metadata": {},
   "outputs": [],
   "source": [
    "from sklearn.model_selection import train_test_split\n",
    "\n",
    "# Split dataset in training and validation part used for the gradient steps and monitoring of the training\n",
    "x_train, x_val, y_train, y_val, w_train, w_val = train_test_split(x, y, w, test_size=0.5, random_state=1234)\n",
    "\n",
    "# Train the neural network\n",
    "history = model.fit(\n",
    "                x_train, y_train,\n",
    "                sample_weight=w_train,\n",
    "                batch_size=1000,\n",
    "                epochs=30,\n",
    "                validation_data=(x_val, y_val, w_val))"
   ]
  },
  {
   "cell_type": "markdown",
   "metadata": {},
   "source": [
    "## Plot loss convergence"
   ]
  },
  {
   "cell_type": "code",
   "execution_count": 9,
   "metadata": {},
   "outputs": [
    {
     "data": {
      "image/png": "[encoded data removed]",
      "text/plain": [
       "<Figure size 432x288 with 1 Axes>"
      ]
     },
     "metadata": {},
     "output_type": "display_data"
    }
   ],
   "source": [
    "# Extract number of run epochs from the training history\n",
    "epochs = range(1, len(history.history[\"loss\"])+1)\n",
    "\n",
    "# Extract loss on training and validation dataset and plot them together\n",
    "plt.plot(epochs, history.history[\"loss\"], \"o-\", label=\"Training\")\n",
    "plt.plot(epochs, history.history[\"val_loss\"], \"o-\", label=\"Validation\")\n",
    "plt.xlabel(\"Epochs\"), plt.ylabel(\"Loss\")\n",
    "plt.yscale(\"log\")\n",
    "plt.legend();"
   ]
  },
  {
   "cell_type": "markdown",
   "metadata": {},
   "source": [
    "## Apply trained model\n",
    "\n",
    "Note that we apply the model again on the training dataset. In the actual analysis, we would apply the model on the second fold of the full analysis dataset."
   ]
  },
  {
   "cell_type": "code",
   "execution_count": 10,
   "metadata": {},
   "outputs": [
    {
     "name": "stdout",
     "output_type": "stream",
     "text": [
      "Predictions of qqh events:\n",
      "[[0.2736749  0.25753364 0.46879146]\n",
      " [0.347043   0.3513556  0.3016014 ]\n",
      " [0.593255   0.17805952 0.22868548]\n",
      " ...\n",
      " [0.5602104  0.24110675 0.19868283]\n",
      " [0.52661115 0.12178256 0.35160634]\n",
      " [0.63795996 0.2009743  0.16106574]]\n",
      "\n",
      "Mean probability per process:\n",
      "[0.65141636 0.17605251 0.17253135]\n",
      "\n"
     ]
    }
   ],
   "source": [
    "# Get neural network prediction for each MC sample\n",
    "qqh_predictions = model.predict(qqh_x)\n",
    "ztt_predictions = model.predict(ztt_x)\n",
    "qcd_predictions = model.predict(qcd_x)\n",
    "\n",
    "# Print predictions showing probability for each process\n",
    "print(\"Predictions of qqh events:\\n{}\\n\".format(\n",
    "    qqh_predictions))\n",
    "print(\"Mean probability per process:\\n{}\\n\".format(\n",
    "    np.mean(qqh_predictions, axis=0)))"
   ]
  },
  {
   "cell_type": "markdown",
   "metadata": {},
   "source": [
    "## Fill categories with highest NN score"
   ]
  },
  {
   "cell_type": "code",
   "execution_count": 11,
   "metadata": {
    "collapsed": true
   },
   "outputs": [],
   "source": [
    "# These are our processes\n",
    "processes = [\"qqh\", \"ztt\", \"qcd\"]\n",
    "\n",
    "# Structure categories\n",
    "categories = {}\n",
    "for category in processes: # Make dedicated category for each process\n",
    "    categories[category] = {}\n",
    "    for process in processes: # Store NN scores and event weights of each process contributing to this category\n",
    "        categories[category][process] = {\"scores\": [], \"weights\": []}\n",
    "\n",
    "predictions = {\n",
    "    \"qqh\": qqh_predictions,\n",
    "    \"ztt\": ztt_predictions,\n",
    "    \"qcd\": qcd_predictions\n",
    "}\n",
    "weights = {\n",
    "    \"qqh\": qqh[\"training_weight\"],\n",
    "    \"ztt\": ztt[\"training_weight\"],\n",
    "    \"qcd\": qcd[\"training_weight\"]\n",
    "}\n",
    "\n",
    "# Loop over processes\n",
    "for i_process, process in enumerate(processes):\n",
    "    # Loop over events of this process\n",
    "    n_events = predictions[process].shape[0]\n",
    "    for i_event in range(n_events):\n",
    "        # Find category for this event and retrieve NN score\n",
    "        p = predictions[process][i_event] # e.g., [0.3, 0.5, 0.2]\n",
    "        max_index = np.argmax(p)          #             1\n",
    "        max_score = p[max_index]          #             0.5\n",
    "        category = processes[max_index]   #             \"ztt\"\n",
    "        \n",
    "        # Store NN score and event weight for this event in respective category\n",
    "        categories[category][process][\"scores\"].append(\n",
    "            max_score\n",
    "        )\n",
    "        categories[category][process][\"weights\"].append(\n",
    "            weights[process][i_event]\n",
    "        )"
   ]
  },
  {
   "cell_type": "markdown",
   "metadata": {},
   "source": [
    "## Plot categories\n",
    "\n",
    "Note that we use the event weights for plotting, not the reweighted weights used for training."
   ]
  },
  {
   "cell_type": "code",
   "execution_count": 12,
   "metadata": {},
   "outputs": [
    {
     "data": {
      "image/png": "[encoded data removed]",
      "text/plain": [
       "<Figure size 432x288 with 1 Axes>"
      ]
     },
     "metadata": {},
     "output_type": "display_data"
    },
    {
     "data": {
      "image/png": "[encoded data removed]",
      "text/plain": [
       "<Figure size 432x288 with 1 Axes>"
      ]
     },
     "metadata": {},
     "output_type": "display_data"
    },
    {
     "data": {
      "image/png": "[encoded data removed]",
      "text/plain": [
       "<Figure size 432x288 with 1 Axes>"
      ]
     },
     "metadata": {},
     "output_type": "display_data"
    }
   ],
   "source": [
    "def plot(label, logscale=False):\n",
    "    category = categories[label]\n",
    "    plt.figure()\n",
    "    bins = np.linspace(0.33, 1.0, 10)\n",
    "    for process in category:\n",
    "        plt.hist(\n",
    "            np.array(category[process][\"scores\"]),\n",
    "            weights=np.array(category[process][\"weights\"]),\n",
    "            bins=bins,\n",
    "            histtype=\"step\",\n",
    "            lw=2,\n",
    "            label=process)\n",
    "    plt.title(label)\n",
    "    plt.xlabel(\"NN score\")\n",
    "    plt.xlim((bins[0], bins[-1]))\n",
    "    if logscale:\n",
    "        plt.yscale(\"log\")\n",
    "    plt.legend()\n",
    "    \n",
    "# Plot categories\n",
    "plot(\"qqh\", logscale=True)\n",
    "plot(\"ztt\")\n",
    "plot(\"qcd\")"
   ]
  }
 ],
 "metadata": {
  "kernelspec": {
   "display_name": "Python 2",
   "language": "python",
   "name": "python2"
  },
  "language_info": {
   "codemirror_mode": {
    "name": "ipython",
    "version": 2
   },
   "file_extension": ".py",
   "mimetype": "text/x-python",
   "name": "python",
   "nbconvert_exporter": "python",
   "pygments_lexer": "ipython2",
   "version": "2.7.15"
  }
 },
 "nbformat": 4,
 "nbformat_minor": 2
}
