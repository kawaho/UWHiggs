{
 "cells": [
  {
   "cell_type": "code",
   "execution_count": 2,
   "metadata": {},
   "outputs": [
    {
     "name": "stdout",
     "output_type": "stream",
     "text": [
      "               mPt  e_m_collinearMass  e_m_visibleMass     MTMuMET    weight\n",
      "0        64.575668          85.694244        80.866974   88.195625  0.010295\n",
      "1        74.411705          90.077950        58.455322  174.503708  0.007238\n",
      "2        51.121700          86.194260        75.913574   75.019348  0.007472\n",
      "3        66.392273         108.557671        87.526779   97.436249  0.011913\n",
      "4        37.547386         163.797623       104.089790   99.525703  0.011086\n",
      "5        69.857529         111.128197       105.674881   71.267563  0.011732\n",
      "6        94.891556         101.316582        95.157402   58.381340  0.014577\n",
      "7        68.106529          76.882645        65.263977  101.595390  0.012351\n",
      "8        87.530128         113.597305        96.794991  141.464447  0.011823\n",
      "9        24.612665         110.253372        96.582870   45.693783  0.009994\n",
      "10       65.840721          99.813370        97.726830   78.982620  0.012682\n",
      "11       30.667974         129.072052        96.520271   64.654190  0.007615\n",
      "12       65.255798          93.248451        91.900543   52.038536  0.005563\n",
      "13       54.472691          84.759483        64.001549   97.347191  0.009723\n",
      "14       54.688499         109.453186       103.887299   54.363270  0.012374\n",
      "15       53.449909         101.219543        92.185501   82.288155  0.011732\n",
      "16       60.660576          99.156120        71.249107  117.671104  0.009953\n",
      "17       51.036606          96.939812        80.145554   33.287632  0.015260\n",
      "18       66.609673         105.889786        84.897568   62.009430  0.012640\n",
      "19       55.895603          86.476349        57.038364  137.085175  0.000942\n",
      "20       40.404491         113.387238        99.480904   20.006954  0.009305\n",
      "21       43.596905         119.089973        76.564735  105.001007  0.012354\n",
      "22       66.234726          69.579155        68.643890   32.676277  0.007915\n",
      "23       66.040207         134.840820       124.365906   97.430351  0.009793\n",
      "24       60.267128          82.765137        78.770340   42.549820  0.012015\n",
      "25       46.286564          77.355042        59.237457   81.395432  0.008708\n",
      "26       62.607292          59.826908        53.917274   69.417953  0.011022\n",
      "27       52.696991         123.154236        90.786888  100.754974  0.011735\n",
      "28       24.267410         127.061890        93.561890    9.624795  0.011551\n",
      "29       33.124580         104.766579        88.009666   46.333019  0.009619\n",
      "...            ...                ...              ...         ...       ...\n",
      "145303   44.299603          92.024704        85.457291   48.559006  0.000926\n",
      "145304   67.794304         107.411072       103.918922   32.884758  0.000955\n",
      "145305   65.019226          82.029152        61.548656  114.590942  0.000921\n",
      "145306  106.305367         104.764061        93.190094  149.229797  0.001025\n",
      "145307   35.019306          86.252007        79.598747   68.486389  0.000949\n",
      "145308   66.172417          77.443039        70.871445   59.089897  0.000692\n",
      "145309  107.747215          84.489044        72.059685  167.013504  0.000642\n",
      "145310   68.484192          84.720840        84.605370   32.672169  0.000578\n",
      "145311   97.967766          83.196449        70.793465   55.618393  0.000906\n",
      "145312   66.102463         107.160980       104.789925   59.977245  0.000964\n",
      "145313   38.129948         151.518539       116.067207    9.868840  0.000941\n",
      "145314   45.317055          88.073441        82.615387   51.646576  0.000834\n",
      "145315   32.980042         116.125053       103.081413   57.746559  0.000950\n",
      "145316  104.622437          61.567078        60.752983  152.820618  0.000965\n",
      "145317   53.386326         100.852478        94.075142   44.800663  0.000895\n",
      "145318   46.956539         117.508026        93.933350   13.254372  0.000617\n",
      "145319   81.054916         119.545250       111.095512   75.697067  0.000942\n",
      "145320   42.351994         125.165451        68.921951  135.472427  0.000945\n",
      "145321   50.478283         140.191925        87.705002  128.302094  0.000149\n",
      "145322   60.529083         121.176285        93.215965  122.171509  0.000859\n",
      "145323   58.712883         119.614052        80.757057  140.975357  0.000960\n",
      "145324   87.582260         101.652832        86.203987  112.805244  0.000756\n",
      "145325   91.277794          72.618774        60.989483   24.598707  0.001114\n",
      "145326   65.263031         121.203079        98.554604  117.615639  0.000711\n",
      "145327   30.271193         135.693924        94.092667   62.964188  0.000072\n",
      "145328   71.926544          53.024223        52.573536   46.490894  0.000579\n",
      "145329  154.844131         101.988548        78.646118   27.362019  0.000733\n",
      "145330   60.736210         118.255638        92.635567   96.927521  0.000756\n",
      "145331   28.392227         176.294113        72.268326    0.431302  0.000856\n",
      "145332   30.766827         101.920303        63.065132   78.498901  0.000956\n",
      "\n",
      "[145333 rows x 5 columns]\n"
     ]
    }
   ],
   "source": [
    "import ROOT\n",
    "import pandas\n",
    "import numpy as np\n",
    "np.random.seed(1234)\n",
    "\n",
    "filename = \"BDT.root\"\n",
    "# Specify variables which shall be used as input for the neural network\n",
    "#variables = [\"mPt\", \"ePt\", \"e_m_collinearMass\", \"e_m_visibleMass\", \"dPhiMuMET\", \"dPhiEMET\", \"dPhiMuE\", \"MTMuMET\"]\n",
    "variables = [\"mPt\", \"e_m_collinearMass\", \"e_m_visibleMass\", \"MTMuMET\"]\n",
    "\n",
    "def load_tree(filename, treename):\n",
    "    f = ROOT.TFile(filename)\n",
    "    t = f.Get(treename)\n",
    "    data, labels = t.AsMatrix(columns=variables + [\"weight\"], return_labels=True)\n",
    "    return pandas.DataFrame(data=data, columns=labels)\n",
    "\n",
    "# Load data from ROOT TTrees to panda dataframes\n",
    "signal = load_tree(filename, \"TreeS\")\n",
    "background = load_tree(filename, \"TreeB\")\n",
    "\n",
    "# Show the content of a dataframe\n",
    "#print(background)\n",
    "print(signal)"
   ]
  },
  {
   "cell_type": "code",
   "execution_count": 3,
   "metadata": {},
   "outputs": [],
   "source": [
    "# Sum of all event weights is needed for reweighting to equal importance\n",
    "sum_weights = np.sum(signal[\"weight\"]) + np.sum(background[\"weight\"])\n",
    "\n",
    "# Function to reweight the weights to equal importance\n",
    "def reweight(df):\n",
    "    df[\"weight_reweighted\"] = df[\"weight\"] * sum_weights / np.sum(df[\"weight\"])\n",
    "\n",
    "# Run the reweighting on the pandas dataframe\n",
    "reweight(signal)\n",
    "reweight(background)"
   ]
  },
  {
   "cell_type": "code",
   "execution_count": 4,
   "metadata": {
    "scrolled": false
   },
   "outputs": [],
   "source": [
    "import matplotlib.pyplot as plt\n",
    "\n",
    "# Function to plot a variable\n",
    "def plot(variable):\n",
    "    plt.figure()\n",
    "    range_ = np.percentile(signal[variable], (5, 95))\n",
    "    plt.hist(\n",
    "        [signal[variable], background[variable]],\n",
    "        range=range_,\n",
    "        #bins=30,\n",
    "        weights=[\n",
    "            signal[\"weight_reweighted\"],\n",
    "            background[\"weight_reweighted\"]],\n",
    "        histtype=\"step\",\n",
    "        lw=2,\n",
    "        label=(\"signal\", \"background\"))\n",
    "    plt.xlabel(variable)\n",
    "    plt.legend()\n",
    "\n",
    "# Loop over variables and plot each one\n",
    "for var in variables:\n",
    "    plot(var)"
   ]
  },
  {
   "cell_type": "code",
   "execution_count": 5,
   "metadata": {
    "scrolled": true
   },
   "outputs": [
    {
     "name": "stderr",
     "output_type": "stream",
     "text": [
      "/cvmfs/sft.cern.ch/lcg/views/LCG_94/x86_64-centos7-gcc8-opt/lib/python2.7/site-packages/ipykernel_launcher.py:3: FutureWarning: Method .as_matrix will be removed in a future version. Use .values instead.\n",
      "  This is separate from the ipykernel package so we can avoid doing imports until\n",
      "/cvmfs/sft.cern.ch/lcg/views/LCG_94/x86_64-centos7-gcc8-opt/lib/python2.7/site-packages/ipykernel_launcher.py:4: FutureWarning: Method .as_matrix will be removed in a future version. Use .values instead.\n",
      "  after removing the cwd from sys.path.\n"
     ]
    },
    {
     "name": "stdout",
     "output_type": "stream",
     "text": [
      "Variables:\n",
      "['mPt', 'e_m_collinearMass', 'e_m_visibleMass', 'MTMuMET']\n",
      "\n",
      "Inputs:\n",
      "[[ 64.57566833  85.69424438  80.86697388  88.19562531]\n",
      " [ 74.41170502  90.07794952  58.45532227 174.50370789]\n",
      " [ 51.12170029  86.19425964  75.91357422  75.01934814]\n",
      " ...\n",
      " [ 41.7135582  100.82290649  80.40729523  10.51107979]\n",
      " [ 35.07635117  83.57242584  49.60738373  96.80285645]\n",
      " [ 24.6069355   57.62071991  40.49722672  55.49817657]]\n",
      "\n",
      "Weights:\n",
      "[1.89809964 1.33453159 1.37767332 ... 0.03852997 0.02481124 0.01877601]\n",
      "\n",
      "Targets:\n",
      "[[1. 0.]\n",
      " [1. 0.]\n",
      " [1. 0.]\n",
      " ...\n",
      " [0. 1.]\n",
      " [0. 1.]\n",
      " [0. 1.]]\n",
      "\n"
     ]
    }
   ],
   "source": [
    "# Function to extract numpy array from pandas dataframe\n",
    "def load_data(df, index):\n",
    "    x = df.as_matrix(columns=variables)\n",
    "    w = df.as_matrix(columns=[\"weight_reweighted\"])\n",
    "    y = np.zeros((x.shape[0], 2))\n",
    "    y[:, index] = 1\n",
    "    return x, w, y\n",
    "\n",
    "# Load data from dataframe to numpy arrays\n",
    "signal_x, signal_w, signal_y = load_data(signal, 0)\n",
    "background_x, background_w, background_y = load_data(background, 1)\n",
    "\n",
    "# Stack numpy arrays of different processes to single array\n",
    "x = np.vstack([signal_x, background_x])\n",
    "w = np.vstack([signal_w, background_w]).squeeze()\n",
    "y = np.vstack([signal_y, background_y])\n",
    "\n",
    "# Print what we are doing\n",
    "print(\"Variables:\\n{}\\n\".format(variables))\n",
    "print(\"Inputs:\\n{}\\n\".format(x))\n",
    "print(\"Weights:\\n{}\\n\".format(w))\n",
    "print(\"Targets:\\n{}\\n\".format(y))"
   ]
  },
  {
   "cell_type": "code",
   "execution_count": 6,
   "metadata": {},
   "outputs": [
    {
     "name": "stderr",
     "output_type": "stream",
     "text": [
      "Using Theano backend.\n"
     ]
    },
    {
     "name": "stdout",
     "output_type": "stream",
     "text": [
      "_________________________________________________________________\n",
      "Layer (type)                 Output Shape              Param #   \n",
      "=================================================================\n",
      "dense_1 (Dense)              (None, 100)               500       \n",
      "_________________________________________________________________\n",
      "dropout_1 (Dropout)          (None, 100)               0         \n",
      "_________________________________________________________________\n",
      "dense_2 (Dense)              (None, 2)                 202       \n",
      "=================================================================\n",
      "Total params: 702\n",
      "Trainable params: 702\n",
      "Non-trainable params: 0\n",
      "_________________________________________________________________\n"
     ]
    }
   ],
   "source": [
    "from keras.models import Sequential\n",
    "from keras.layers import Dense, Dropout\n",
    "\n",
    "# Stack layers defining neural network architecture\n",
    "model = Sequential()\n",
    "model.add(Dense(100, activation=\"relu\", input_dim=len(variables)))\n",
    "model.add(Dropout(0.2))\n",
    "model.add(Dense(2, activation=\"softmax\"))\n",
    "\n",
    "# Specify loss function and optimizer algorithm\n",
    "model.compile(loss=\"categorical_crossentropy\", optimizer=\"adam\", metrics=['accuracy'])\n",
    "\n",
    "# Print architecture\n",
    "model.summary()"
   ]
  },
  {
   "cell_type": "code",
   "execution_count": 7,
   "metadata": {
    "scrolled": false
   },
   "outputs": [
    {
     "name": "stdout",
     "output_type": "stream",
     "text": [
      "Train on 2530923 samples, validate on 2530924 samples\n",
      "Epoch 1/10\n",
      "2530923/2530923 [==============================] - 49s 19us/step - loss: 0.0500 - acc: 0.7327 - val_loss: 0.0331 - val_acc: 0.8545\n",
      "Epoch 2/10\n",
      "2530923/2530923 [==============================] - 48s 19us/step - loss: 0.0333 - acc: 0.8741 - val_loss: 0.0325 - val_acc: 0.8636\n",
      "Epoch 3/10\n",
      "2530923/2530923 [==============================] - 47s 19us/step - loss: 0.0322 - acc: 0.8881 - val_loss: 0.0302 - val_acc: 0.9513\n",
      "Epoch 4/10\n",
      "2530923/2530923 [==============================] - 49s 19us/step - loss: 0.0277 - acc: 0.8240 - val_loss: 0.0323 - val_acc: 0.4854\n",
      "Epoch 5/10\n",
      "2530923/2530923 [==============================] - 48s 19us/step - loss: 0.0256 - acc: 0.7763 - val_loss: 0.0228 - val_acc: 0.8194\n",
      "Epoch 6/10\n",
      "2530923/2530923 [==============================] - 47s 19us/step - loss: 0.0225 - acc: 0.8427 - val_loss: 0.0186 - val_acc: 0.9263\n",
      "Epoch 7/10\n",
      "2530923/2530923 [==============================] - 48s 19us/step - loss: 0.0214 - acc: 0.8590 - val_loss: 0.0189 - val_acc: 0.8528\n",
      "Epoch 8/10\n",
      "2530923/2530923 [==============================] - 49s 20us/step - loss: 0.0213 - acc: 0.8594 - val_loss: 0.0187 - val_acc: 0.9227\n",
      "Epoch 9/10\n",
      "2530923/2530923 [==============================] - 51s 20us/step - loss: 0.0213 - acc: 0.8613 - val_loss: 0.0186 - val_acc: 0.9401\n",
      "Epoch 10/10\n",
      "2530923/2530923 [==============================] - 50s 20us/step - loss: 0.0209 - acc: 0.8669 - val_loss: 0.0181 - val_acc: 0.9280\n"
     ]
    }
   ],
   "source": [
    "from sklearn.model_selection import train_test_split\n",
    "\n",
    "# Split dataset in training and validation part used for the gradient steps and monitoring of the training\n",
    "x_train, x_val, y_train, y_val, w_train, w_val = train_test_split(x, y, w, test_size=0.5, random_state=1234)\n",
    "\n",
    "# Train the neural network\n",
    "history = model.fit(\n",
    "                x_train, y_train,\n",
    "                sample_weight=w_train,\n",
    "                batch_size=1000,\n",
    "                epochs=10,\n",
    "                validation_data=(x_val, y_val, w_val))"
   ]
  },
  {
   "cell_type": "code",
   "execution_count": 8,
   "metadata": {},
   "outputs": [
    {
     "data": {
      "image/png": "[encoded data removed]",
      "text/plain": [
       "<Figure size 432x288 with 1 Axes>"
      ]
     },
     "metadata": {},
     "output_type": "display_data"
    }
   ],
   "source": [
    "# Extract number of run epochs from the training history\n",
    "epochs = range(1, len(history.history[\"loss\"])+1)\n",
    "\n",
    "# Extract loss on training and validation dataset and plot them together\n",
    "plt.plot(epochs, history.history[\"loss\"], \"o-\", label=\"Training\")\n",
    "plt.plot(epochs, history.history[\"val_loss\"], \"o-\", label=\"Validation\")\n",
    "plt.xlabel(\"Epochs\"), plt.ylabel(\"Loss\")\n",
    "plt.yscale(\"log\")\n",
    "plt.legend();"
   ]
  },
  {
   "cell_type": "code",
   "execution_count": 9,
   "metadata": {},
   "outputs": [
    {
     "data": {
      "image/png": "[encoded data removed]",
      "text/plain": [
       "<Figure size 432x288 with 1 Axes>"
      ]
     },
     "metadata": {},
     "output_type": "display_data"
    }
   ],
   "source": [
    "# Extract number of run epochs from the training history\n",
    "epochs = range(1, len(history.history[\"loss\"])+1)\n",
    "\n",
    "# Extract accuracy on training and validation dataset and plot them together\n",
    "plt.plot(epochs, history.history[\"acc\"], \"o-\", label=\"Training\")\n",
    "plt.plot(epochs, history.history[\"val_acc\"], \"o-\", label=\"Validation\")\n",
    "plt.xlabel(\"Epochs\"), plt.ylabel(\"Accuracy\")\n",
    "plt.legend();"
   ]
  },
  {
   "cell_type": "code",
   "execution_count": 10,
   "metadata": {},
   "outputs": [
    {
     "name": "stdout",
     "output_type": "stream",
     "text": [
      "Predictions of signal events:\n",
      "[[0.86676365 0.13323636]\n",
      " [0.57900655 0.42099345]\n",
      " [0.83887774 0.16112228]\n",
      " ...\n",
      " [0.8593135  0.14068651]\n",
      " [0.00569495 0.9943051 ]\n",
      " [0.20815952 0.7918405 ]]\n",
      "\n",
      "Mean probability per process:\n",
      "[0.7203854  0.27959988]\n",
      "\n"
     ]
    }
   ],
   "source": [
    "# Get neural network prediction for each MC sample\n",
    "signal_predictions = model.predict(signal_x)\n",
    "background_predictions = model.predict(background_x)\n",
    "\n",
    "# Print predictions showing probability for each process\n",
    "print(\"Predictions of signal events:\\n{}\\n\".format(\n",
    "    signal_predictions))\n",
    "print(\"Mean probability per process:\\n{}\\n\".format(\n",
    "    np.mean(signal_predictions, axis=0)))"
   ]
  },
  {
   "cell_type": "code",
   "execution_count": 11,
   "metadata": {},
   "outputs": [],
   "source": [
    "# These are our processes\n",
    "processes = [\"signal\", \"background\"]\n",
    "\n",
    "# Structure categories\n",
    "categories = {}\n",
    "for category in processes: # Make dedicated category for each process\n",
    "    categories[category] = {}\n",
    "    for process in processes: # Store NN scores and event weights of each process contributing to this category\n",
    "        categories[category][process] = {\"scores\": [], \"weights\": []}\n",
    "\n",
    "predictions = {\n",
    "    \"signal\": signal_predictions,\n",
    "    \"background\": background_predictions\n",
    "}\n",
    "weights = {\n",
    "    \"signal\": signal[\"weight\"],\n",
    "    \"background\": background[\"weight\"]\n",
    "}\n",
    "\n",
    "# Loop over processes\n",
    "for i_process, process in enumerate(processes):\n",
    "    # Loop over events of this process\n",
    "    n_events = predictions[process].shape[0]\n",
    "    for i_event in range(n_events):\n",
    "        # Find category for this event and retrieve NN score\n",
    "        p = predictions[process][i_event] # e.g., [0.3, 0.5, 0.2]\n",
    "        max_index = np.argmax(p)          #             1\n",
    "        max_score = p[max_index]          #             0.5\n",
    "        category = processes[max_index]   #             \"ztt\"\n",
    "        \n",
    "        # Store NN score and event weight for this event in respective category\n",
    "        categories[category][process][\"scores\"].append(\n",
    "            max_score\n",
    "        )\n",
    "        categories[category][process][\"weights\"].append(\n",
    "            weights[process][i_event]\n",
    "        )"
   ]
  },
  {
   "cell_type": "code",
   "execution_count": 12,
   "metadata": {},
   "outputs": [
    {
     "data": {
      "image/png": "[encoded data removed]",
      "text/plain": [
       "<Figure size 432x288 with 1 Axes>"
      ]
     },
     "metadata": {},
     "output_type": "display_data"
    },
    {
     "data": {
      "image/png": "[encoded data removed]",
      "text/plain": [
       "<Figure size 432x288 with 1 Axes>"
      ]
     },
     "metadata": {},
     "output_type": "display_data"
    }
   ],
   "source": [
    "def plot(label, logscale=False):\n",
    "    category = categories[label]\n",
    "    plt.figure()\n",
    "    bins = np.linspace(0.33, 1.0, 10)\n",
    "    for process in category:\n",
    "        plt.hist(\n",
    "            np.array(category[process][\"scores\"]),\n",
    "            weights=np.array(category[process][\"weights\"]),\n",
    "            #bins=bins,\n",
    "            histtype=\"step\",\n",
    "            lw=2,\n",
    "            label=process)\n",
    "    plt.title(label)\n",
    "    plt.xlabel(\"NN score\")\n",
    "    #plt.xlim((bins[0], bins[-1]))\n",
    "    if logscale:\n",
    "        plt.yscale(\"log\")\n",
    "    plt.legend()\n",
    "    \n",
    "# Plot categories\n",
    "plot(\"signal\", logscale=True)\n",
    "plot(\"background\", logscale=True)"
   ]
  },
  {
   "cell_type": "code",
   "execution_count": null,
   "metadata": {},
   "outputs": [],
   "source": [
    "model.save('NN.h5')\n",
    "model_json = model.to_json()\n",
    "with open(\"model.json\", \"w\") as json_file:\n",
    "    json_file.write(model_json)\n",
    "\n",
    "model.save_weights('NN_weights.h5')"
   ]
  },
  {
   "cell_type": "code",
   "execution_count": null,
   "metadata": {},
   "outputs": [],
   "source": [
    "from keras.models import load_model\n",
    "import numpy as np\n",
    "model = load_model('NNtf.h5')\n",
    "#pred = [[38.902351, 30.035307, 2.589421, 0.638355, 20.325911, 89.910355, 0.622604, 0.019863]]\n",
    "pred = [[85.433296, 43.545998, 2.442940, 0.403881, 14.301805, 135.165955, 49.902340, 3.093282]]\n",
    "prediction = model.predict(np.array(pred)) \n",
    "print prediction"
   ]
  },
  {
   "cell_type": "code",
   "execution_count": null,
   "metadata": {},
   "outputs": [],
   "source": []
  }
 ],
 "metadata": {
  "kernelspec": {
   "display_name": "Python 2",
   "language": "python",
   "name": "python2"
  },
  "language_info": {
   "codemirror_mode": {
    "name": "ipython",
    "version": 2
   },
   "file_extension": ".py",
   "mimetype": "text/x-python",
   "name": "python",
   "nbconvert_exporter": "python",
   "pygments_lexer": "ipython2",
   "version": "2.7.15"
  }
 },
 "nbformat": 4,
 "nbformat_minor": 2
}
