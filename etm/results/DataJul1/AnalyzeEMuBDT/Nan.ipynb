{
 "cells": [
  {
   "cell_type": "code",
   "execution_count": 2,
   "metadata": {},
   "outputs": [
    {
     "name": "stdout",
     "output_type": "stream",
     "text": [
      "Welcome to JupyROOT 6.12/07\n"
     ]
    }
   ],
   "source": [
    "import os\n",
    "from sys import argv, stdout, stderr\n",
    "from ROOT import TCanvas, TLegend, gROOT, gStyle, TFile, TIter, gSystem, TTree, TH1F, TPaveStats, TGraph, TH2F\n",
    "import sys\n",
    "gROOT.SetStyle(\"Plain\")\n",
    "gROOT.SetBatch(True)\n",
    "from array import array"
   ]
  },
  {
   "cell_type": "code",
   "execution_count": 5,
   "metadata": {},
   "outputs": [
    {
     "name": "stdout",
     "output_type": "stream",
     "text": [
      "158.441314697 1\n",
      "107.46661377 0\n",
      "126.910308838 0\n",
      "288.957550049 1\n",
      "41.1964988708 0\n",
      "81.4858779907 0\n",
      "74.6608047485 1\n",
      "262.797485352 0\n",
      "137.928436279 0\n"
     ]
    }
   ],
   "source": [
    "import math\n",
    "f1 = TFile('DY1JetsToLL_M-50_TuneCP5_13TeV-madgraphMLM-pythia8_v2-PU2017_12Apr2018_new_pmx_94X_mc2017_realistic_v14-v1.root')\n",
    "t1 = f1.Get('TreeB')\n",
    "i = 0\n",
    "for entry in t1:\n",
    "    if i > 19200 and i < 19210:\n",
    "        #if not math.isnan(entry.vbfMass):\n",
    "        print entry.vbfMass, entry.njets\n",
    "    i = i + 1"
   ]
  },
  {
   "cell_type": "code",
   "execution_count": 17,
   "metadata": {},
   "outputs": [],
   "source": [
    "f1 = TFile('../results/DataJul1/AnalyzeEMuBDT/DY4JetsToLL_M-50_TuneCP5_13TeV-madgraphMLM-pythia8_v2-PU2017_12Apr2018_v2_94X_mc2017_realistic_v14-v2.root')\n",
    "t1 = f1.Get('TreeB')\n",
    "for entry in t1:\n",
    "    if math.isnan(entry.vbfMass):\n",
    "        print entry.vbfMass, entry.njets"
   ]
  },
  {
   "cell_type": "code",
   "execution_count": null,
   "metadata": {},
   "outputs": [],
   "source": []
  }
 ],
 "metadata": {
  "kernelspec": {
   "display_name": "Python 2",
   "language": "python",
   "name": "python2"
  },
  "language_info": {
   "codemirror_mode": {
    "name": "ipython",
    "version": 2
   },
   "file_extension": ".py",
   "mimetype": "text/x-python",
   "name": "python",
   "nbconvert_exporter": "python",
   "pygments_lexer": "ipython2",
   "version": "2.7.14+"
  }
 },
 "nbformat": 4,
 "nbformat_minor": 2
}
