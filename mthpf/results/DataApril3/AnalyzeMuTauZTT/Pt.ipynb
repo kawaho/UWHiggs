{
 "cells": [
  {
   "cell_type": "code",
   "execution_count": 1,
   "metadata": {},
   "outputs": [
    {
     "name": "stdout",
     "output_type": "stream",
     "text": [
      "Welcome to JupyROOT 6.12/07\n"
     ]
    }
   ],
   "source": [
    "import os\n",
    "from sys import argv, stdout, stderr\n",
    "from ROOT import TFile, gROOT, TCanvas, TLegend\n",
    "import sys                                                                                                                                                                                                                                                  \n",
    "gROOT.SetStyle(\"Plain\")                                                                                                                                                                                                                                           \n",
    "gROOT.SetBatch(True)"
   ]
  },
  {
   "cell_type": "code",
   "execution_count": 2,
   "metadata": {},
   "outputs": [],
   "source": [
    "def positivize(histogram):                                                                                                                                                                                                                                                      \n",
    "    output = histogram.Clone()                                                                                                                                                                                                                                                  \n",
    "    for i in range(output.GetSize()):                                                                                                                                                                                                                                           \n",
    "        if output.GetArray()[i] < 0:                                                                                                                                                                                                                                            \n",
    "            output.AddAt(0, i)                                                                                                                                                                                                                                                  \n",
    "    return output"
   ]
  },
  {
   "cell_type": "code",
   "execution_count": 5,
   "metadata": {},
   "outputs": [
    {
     "name": "stderr",
     "output_type": "stream",
     "text": [
      "Warning in <TCanvas::Constructor>: Deleting canvas with same name: canvas\n"
     ]
    }
   ],
   "source": [
    "canvas = TCanvas(\"canvas\",\"canvas\",800,800)\n",
    "fdata = TFile('QCD_Pt-20toInf_MuEnrichedPt15_TuneCP5_13TeV_pythia8_v14-v1.root')\n",
    "femb = TFile('embedded_EmbeddingRun2017B_MuTauFinalState.root')\n",
    "fmc = TFile('MC.root')\n",
    "\n",
    "hdata = fdata.Get('TightOS0Jet/mPt')\n",
    "hemb = femb.Get('TightOS0Jet/mPt')\n",
    "htau = fdata.Get('TauLooseOS0Jet/mPt')\n",
    "hmuon = fdata.Get('MuonLooseOS0Jet/mPt')\n",
    "hmt = fdata.Get('MuonLooseTauLooseOS0Jet/mPt')\n",
    "hf = htau.Clone()\n",
    "hf.Add(hmuon)\n",
    "hembt = femb.Get('TauLooseOS0Jet/mPt')\n",
    "hembm = femb.Get('MuonLooseOS0Jet/mPt')\n",
    "hembmt = femb.Get('MuonLooseTauLooseOS0Jet/mPt')\n",
    "hembf = hembt.Clone()\n",
    "hembf.Add(hembm)\n",
    "hembf.Add(hembmt, -1)\n",
    "hembf = positivize(hembf)\n",
    "hf.Add(hembf, -1)\n",
    "hf.Add(hmt, -1)\n",
    "hmc = fmc.Get('TightOS0Jet/mPt')\n",
    "hmct = fmc.Get('TauLooseOS0Jet/mPt')\n",
    "hmcm = fmc.Get('MuonLooseOS0Jet/mPt')\n",
    "hmcmt = fmc.Get('MuonLooseTauLooseOS0Jet/mPt')\n",
    "hmcf = hmct.Clone()\n",
    "hmcf.Add(hmcm)\n",
    "hmcf.Add(hmcmt, -1)\n",
    "hmcf = positivize(hmcf)\n",
    "hm = hmc.Clone()\n",
    "hm.Add(hmcf, -1)\n",
    "hb = hm.Clone()\n",
    "hb.Add(hf)\n",
    "hed0 = hdata.Clone()\n",
    "hed0.Add(hb, -1)\n",
    "hed0.Divide(hemb)\n",
    "\n",
    "hdata = fdata.Get('TightOS1Jet/mPt')\n",
    "hemb = femb.Get('TightOS1Jet/mPt')\n",
    "htau = fdata.Get('TauLooseOS1Jet/mPt')\n",
    "hmuon = fdata.Get('MuonLooseOS1Jet/mPt')\n",
    "hmt = fdata.Get('MuonLooseTauLooseOS1Jet/mPt')\n",
    "hf = htau.Clone()\n",
    "hf.Add(hmuon)\n",
    "hembt = femb.Get('TauLooseOS1Jet/mPt')\n",
    "hembm = femb.Get('MuonLooseOS1Jet/mPt')\n",
    "hembmt = femb.Get('MuonLooseTauLooseOS1Jet/mPt')\n",
    "hembf = hembt.Clone()\n",
    "hembf.Add(hembm)\n",
    "hembf.Add(hembmt, -1)\n",
    "hembf = positivize(hembf)\n",
    "hf.Add(hembf, -1)\n",
    "hf.Add(hmt, -1)\n",
    "hmc = fmc.Get('TightOS1Jet/mPt')\n",
    "hmct = fmc.Get('TauLooseOS1Jet/mPt')\n",
    "hmcm = fmc.Get('MuonLooseOS1Jet/mPt')\n",
    "hmcmt = fmc.Get('MuonLooseTauLooseOS1Jet/mPt')\n",
    "hmcf = hmct.Clone()\n",
    "hmcf.Add(hmcm)\n",
    "hmcf.Add(hmcmt, -1)\n",
    "hmcf = positivize(hmcf)\n",
    "hm = hmc.Clone()\n",
    "hm.Add(hmcf, -1)\n",
    "hb = hm.Clone()\n",
    "hb.Add(hf)\n",
    "hed1 = hdata.Clone()\n",
    "hed1.Add(hb, -1)\n",
    "hed1.Divide(hemb)\n",
    "\n",
    "hdata = fdata.Get('TightOS2Jet/mPt')\n",
    "hemb = femb.Get('TightOS2Jet/mPt')\n",
    "htau = fdata.Get('TauLooseOS2Jet/mPt')\n",
    "hmuon = fdata.Get('MuonLooseOS2Jet/mPt')\n",
    "hmt = fdata.Get('MuonLooseTauLooseOS2Jet/mPt')\n",
    "hf = htau.Clone()\n",
    "hf.Add(hmuon)\n",
    "hembt = femb.Get('TauLooseOS2Jet/mPt')\n",
    "hembm = femb.Get('MuonLooseOS2Jet/mPt')\n",
    "hembmt = femb.Get('MuonLooseTauLooseOS2Jet/mPt')\n",
    "hembf = hembt.Clone()\n",
    "hembf.Add(hembm)\n",
    "hembf.Add(hembmt, -1)\n",
    "hembf = positivize(hembf)\n",
    "hf.Add(hembf, -1)\n",
    "hf.Add(hmt, -1)\n",
    "hmc = fmc.Get('TightOS2Jet/mPt')\n",
    "hmct = fmc.Get('TauLooseOS2Jet/mPt')\n",
    "hmcm = fmc.Get('MuonLooseOS2Jet/mPt')\n",
    "hmcmt = fmc.Get('MuonLooseTauLooseOS2Jet/mPt')\n",
    "hmcf = hmct.Clone()\n",
    "hmcf.Add(hmcm)\n",
    "hmcf.Add(hmcmt, -1)\n",
    "hmcf = positivize(hmcf)\n",
    "hm = hmc.Clone()\n",
    "hm.Add(hmcf, -1)\n",
    "hb = hm.Clone()\n",
    "hb.Add(hf)\n",
    "hed2 = hdata.Clone()\n",
    "hed2.Add(hb, -1)\n",
    "hed2.Divide(hemb)\n",
    "\n",
    "f = TFile('Pt.root',\"RECREATE\")\n",
    "f.cd()\n",
    "hed0.SetName('0Jet')\n",
    "hed1.SetName('1Jet')\n",
    "hed2.SetName('2Jet')\n",
    "hed0.Write()\n",
    "hed1.Write()\n",
    "hed2.Write()\n",
    "f.Close()"
   ]
  },
  {
   "cell_type": "code",
   "execution_count": null,
   "metadata": {},
   "outputs": [],
   "source": []
  }
 ],
 "metadata": {
  "kernelspec": {
   "display_name": "Python 2",
   "language": "python",
   "name": "python2"
  },
  "language_info": {
   "codemirror_mode": {
    "name": "ipython",
    "version": 2
   },
   "file_extension": ".py",
   "mimetype": "text/x-python",
   "name": "python",
   "nbconvert_exporter": "python",
   "pygments_lexer": "ipython2",
   "version": "2.7.14+"
  }
 },
 "nbformat": 4,
 "nbformat_minor": 2
}
