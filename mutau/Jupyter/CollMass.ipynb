{
 "cells": [
  {
   "cell_type": "code",
   "execution_count": 1,
   "metadata": {
    "collapsed": false
   },
   "outputs": [
    {
     "name": "stdout",
     "output_type": "stream",
     "text": [
      "Welcome to JupyROOT 6.10/09\n"
     ]
    }
   ],
   "source": [
    "import os\n",
    "from sys import argv, stdout, stderr\n",
    "from ROOT import TCanvas, TLegend, gROOT, gStyle, TFile, TIter, gSystem, TH1, TDirectory\n",
    "import sys\n",
    "gROOT.SetStyle(\"Plain\")\n",
    "gROOT.SetBatch(True)"
   ]
  },
  {
   "cell_type": "code",
   "execution_count": 2,
   "metadata": {
    "collapsed": true
   },
   "outputs": [],
   "source": [
    "def positivize(histogram):\n",
    "    output = histogram.Clone()\n",
    "    for i in range(output.GetSize()):\n",
    "        if output.GetArray()[i] < 0:\n",
    "            output.AddAt(0, i)\n",
    "    return output"
   ]
  },
  {
   "cell_type": "code",
   "execution_count": 4,
   "metadata": {
    "collapsed": false
   },
   "outputs": [],
   "source": [
    "filelist = ['DYFIT.root', 'SMHFIT.root', 'TTFIT.root', 'STFIT.root', 'EWKFIT.root', 'DibosonFIT.root', 'SignalFIT.root']\n",
    "name = ['DY', 'SMH', 'TTbar', 'SingleTop', 'EWK', 'Diboson', 'LFV125']\n",
    "f = TFile(\"CollMassFit.root\", \"UPDATE\")\n",
    "sjet = {\"0Jet\", \"1Jet\", \"2Jet\", \"2JetVBF\"}\n",
    "for s in sjet:\n",
    "    d = f.mkdir(s)\n",
    "    for i, fil in enumerate(filelist):\n",
    "        fi = TFile(fil)\n",
    "        hall = fi.Get('TightOS'+s+'/bdtDiscriminator')#m_t_CollinearMass\n",
    "        htfakes = fi.Get('TauLooseOS'+s+'/bdtDiscriminator')\n",
    "        hmfakes = fi.Get('MuonLooseOS'+s+'/bdtDiscriminator')\n",
    "        hmtfakes = fi.Get('MuonLooseTauLooseOS'+s+'/bdtDiscriminator')\n",
    "        hmt = htfakes.Clone()\n",
    "        hmt.Add(hmfakes)\n",
    "        hfakes = hmt.Clone()\n",
    "        hfakes.Add(hmtfakes, -1)\n",
    "        hfakes = positivize(hfakes)\n",
    "        h = hall.Clone()\n",
    "        h.Add(hfakes, -1)\n",
    "        h = positivize(h)\n",
    "        h.SetName(name[i])\n",
    "        h.SetDirectory(d)\n",
    "        f.Write()   "
   ]
  },
  {
   "cell_type": "code",
   "execution_count": 5,
   "metadata": {
    "collapsed": false
   },
   "outputs": [],
   "source": [
    "sjet = {\"0Jet\", \"1Jet\", \"2Jet\", \"2JetVBF\"}\n",
    "for s in sjet:\n",
    "    fi = TFile(\"dataFIT.root\")\n",
    "    f = TFile(\"CollMassFit.root\", \"UPDATE\")\n",
    "    d = f.GetDirectory(s)\n",
    "    h = fi.Get('TightOS'+s+'/bdtDiscriminator')\n",
    "    h.SetName(\"data_obs\")\n",
    "    h.SetDirectory(d)\n",
    "    f.Write()"
   ]
  },
  {
   "cell_type": "code",
   "execution_count": 6,
   "metadata": {
    "collapsed": false
   },
   "outputs": [],
   "source": [
    "sjet = {\"0Jet\", \"1Jet\", \"2Jet\", \"2JetVBF\"}\n",
    "for s in sjet:\n",
    "    fi = TFile(\"dataFIT.root\")\n",
    "    f = TFile(\"CollMassFit.root\", \"UPDATE\")\n",
    "    d = f.GetDirectory(s)\n",
    "    htfakes = fi.Get('TauLooseOS'+s+'/bdtDiscriminator')\n",
    "    hmfakes = fi.Get('MuonLooseOS'+s+'/bdtDiscriminator')\n",
    "    hmtfakes = fi.Get('MuonLooseTauLooseOS'+s+'/bdtDiscriminator')\n",
    "    hmt = htfakes.Clone()\n",
    "    hmt.Add(hmfakes)\n",
    "    h = hmt.Clone()\n",
    "    h.Add(hmtfakes, -1)\n",
    "    h = positivize(h)\n",
    "    h.SetName(\"Fakes\")\n",
    "    h.SetDirectory(d)\n",
    "    f.Write()"
   ]
  },
  {
   "cell_type": "code",
   "execution_count": null,
   "metadata": {
    "collapsed": true
   },
   "outputs": [],
   "source": []
  }
 ],
 "metadata": {
  "kernelspec": {
   "display_name": "Python 2",
   "language": "python",
   "name": "python2"
  },
  "language_info": {
   "codemirror_mode": {
    "name": "ipython",
    "version": 2
   },
   "file_extension": ".py",
   "mimetype": "text/x-python",
   "name": "python",
   "nbconvert_exporter": "python",
   "pygments_lexer": "ipython2",
   "version": "2.7.11"
  }
 },
 "nbformat": 4,
 "nbformat_minor": 2
}
