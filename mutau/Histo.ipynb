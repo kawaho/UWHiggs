{
 "cells": [
  {
   "cell_type": "code",
   "execution_count": 1,
   "metadata": {
    "collapsed": false
   },
   "outputs": [
    {
     "name": "stdout",
     "output_type": "stream",
     "text": [
      "Welcome to JupyROOT 6.10/09\n"
     ]
    }
   ],
   "source": [
    "import os\n",
    "from sys import argv, stdout, stderr\n",
    "from ROOT import TCanvas, TLegend, gROOT, gStyle, TFile, TIter, gSystem\n",
    "import sys\n",
    "gROOT.SetStyle(\"Default\")\n",
    "gROOT.SetBatch(True)"
   ]
  },
  {
   "cell_type": "code",
   "execution_count": 8,
   "metadata": {
    "collapsed": false
   },
   "outputs": [
    {
     "ename": "AttributeError",
     "evalue": "'TObject' object has no attribute 'SetDirectory'",
     "output_type": "error",
     "traceback": [
      "\u001b[0;31m\u001b[0m",
      "\u001b[0;31mAttributeError\u001b[0mTraceback (most recent call last)",
      "\u001b[0;32m<ipython-input-8-2f9845910c96>\u001b[0m in \u001b[0;36m<module>\u001b[0;34m()\u001b[0m\n\u001b[1;32m      4\u001b[0m     \u001b[0mhisto\u001b[0m \u001b[0;34m=\u001b[0m \u001b[0mMuTaufile\u001b[0m\u001b[0;34m.\u001b[0m\u001b[0mGet\u001b[0m\u001b[0;34m(\u001b[0m\u001b[0;34m'pileup/pileup'\u001b[0m\u001b[0;34m)\u001b[0m\u001b[0;34m\u001b[0m\u001b[0m\n\u001b[1;32m      5\u001b[0m     \u001b[0mf\u001b[0m \u001b[0;34m=\u001b[0m \u001b[0mTFile\u001b[0m\u001b[0;34m(\u001b[0m\u001b[0mfi\u001b[0m\u001b[0;34m,\u001b[0m \u001b[0;34m\"RECREATE\"\u001b[0m\u001b[0;34m)\u001b[0m\u001b[0;34m\u001b[0m\u001b[0m\n\u001b[0;32m----> 6\u001b[0;31m     \u001b[0mhisto\u001b[0m\u001b[0;34m.\u001b[0m\u001b[0mSetDirectory\u001b[0m\u001b[0;34m(\u001b[0m\u001b[0mf\u001b[0m\u001b[0;34m)\u001b[0m\u001b[0;34m\u001b[0m\u001b[0m\n\u001b[0m\u001b[1;32m      7\u001b[0m     \u001b[0mf\u001b[0m\u001b[0;34m.\u001b[0m\u001b[0mWrite\u001b[0m\u001b[0;34m(\u001b[0m\u001b[0;34m)\u001b[0m\u001b[0;34m\u001b[0m\u001b[0m\n",
      "\u001b[0;31mAttributeError\u001b[0m: 'TObject' object has no attribute 'SetDirectory'"
     ]
    },
    {
     "name": "stderr",
     "output_type": "stream",
     "text": [
      "Error in <TFile::TFile>: file pileupDY.root does not exist\n"
     ]
    }
   ],
   "source": [
    "#filist = ['pileupDY.root', 'pileupDY4.root', 'pileupSTtWtop.root', 'pileupTTToHadronic.root', 'pileupW.root', 'pileupW4.root', 'pileupWplusHTT.root', 'pileupDY1.root', 'pileupGGHMT.root', 'pileupSTtantitop.root', 'pileupTTToSemiLeptonic.root', 'pileupW1.root', 'pileupWW.root', 'pileupZHTT.root', 'pileupDY2.root', 'pileupGGHTT.root', 'pileupSTttop.root', 'pileupVBFHMT.root', 'pileupW2.root', 'pileupWZ.root', 'pileupZZ.root', 'pileupDY3.root', 'pileupSTtWantitop.root', 'pileupTTTo2L2Nu.root', 'pileupVBFHTT.root', 'pileupW3.root', 'pileupWminusHTT.root', 'pileupttH.root']\n",
    "filist = ['pileupQCD.root']\n",
    "for fi in filist:\n",
    "    MuTaufile = TFile('data/')\n",
    "    histo = MuTaufile.Get('pileup/pileup')\n",
    "    f = TFile(fi, \"RECREATE\")\n",
    "    histo.SetDirectory(f)\n",
    "    f.Write()"
   ]
  },
  {
   "cell_type": "code",
   "execution_count": null,
   "metadata": {
    "collapsed": true
   },
   "outputs": [],
   "source": []
  }
 ],
 "metadata": {
  "kernelspec": {
   "display_name": "Python 2",
   "language": "python",
   "name": "python2"
  },
  "language_info": {
   "codemirror_mode": {
    "name": "ipython",
    "version": 2
   },
   "file_extension": ".py",
   "mimetype": "text/x-python",
   "name": "python",
   "nbconvert_exporter": "python",
   "pygments_lexer": "ipython2",
   "version": "2.7.11"
  }
 },
 "nbformat": 4,
 "nbformat_minor": 2
}
