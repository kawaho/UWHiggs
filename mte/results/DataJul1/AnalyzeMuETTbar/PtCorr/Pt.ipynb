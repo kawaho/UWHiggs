{
 "cells": [
  {
   "cell_type": "code",
   "execution_count": 1,
   "metadata": {},
   "outputs": [
    {
     "name": "stdout",
     "output_type": "stream",
     "text": [
      "Welcome to JupyROOT 6.12/07\n"
     ]
    }
   ],
   "source": [
    "import os\n",
    "from sys import argv, stdout, stderr\n",
    "from ROOT import TFile, gROOT, TCanvas, TLegend\n",
    "import sys                                                                                                                                                                                                                                                  \n",
    "gROOT.SetStyle(\"Plain\")                                                                                                                                                                                                                                           \n",
    "gROOT.SetBatch(True)"
   ]
  },
  {
   "cell_type": "code",
   "execution_count": 4,
   "metadata": {},
   "outputs": [],
   "source": [
    "fmc = TFile('Monte.root')\n",
    "fmcss = TFile('MC.root')\n",
    "fdata = TFile('QCD_Pt-20toInf_MuEnrichedPt15_TuneCP5_13TeV_pythia8_v14-v1.root')\n",
    "femb = TFile('TT.root')\n",
    "\n",
    "hmc = fmc.Get('TightOS0Jet/ePt')\n",
    "hmcss = fmcss.Get('TightSS0Jet/ePt')\n",
    "hdatass = fdata.Get('TightSS0Jet/ePt')\n",
    "hqcd = hdatass.Clone()\n",
    "hqcd.Add(hmcss, -1)\n",
    "hdata = fdata.Get('TightOS0Jet/ePt')\n",
    "hemb = femb.Get('TightOS0Jet/ePt')\n",
    "hm = hmc.Clone()\n",
    "hm.Add(hqcd)\n",
    "h0 = hdata.Clone()\n",
    "h0.Add(hm, -1)\n",
    "h0.Divide(hemb)\n",
    "\n",
    "hmc = fmc.Get('TightOS1Jet/ePt')\n",
    "hmcss = fmcss.Get('TightSS1Jet/ePt')\n",
    "hdatass = fdata.Get('TightSS1Jet/ePt')\n",
    "hqcd = hdatass.Clone()\n",
    "hqcd.Add(hmcss, -1)\n",
    "hdata = fdata.Get('TightOS1Jet/ePt')\n",
    "hemb = femb.Get('TightOS1Jet/ePt')\n",
    "hm = hmc.Clone()\n",
    "hm.Add(hqcd)\n",
    "h1 = hdata.Clone()\n",
    "h1.Add(hm, -1)\n",
    "h1.Divide(hemb)\n",
    "\n",
    "hmc = fmc.Get('TightOS2Jet/ePt')\n",
    "hmcss = fmcss.Get('TightSS2Jet/ePt')\n",
    "hdatass = fdata.Get('TightSS2Jet/ePt')\n",
    "hqcd = hdatass.Clone()\n",
    "hqcd.Add(hmcss, -1)\n",
    "hdata = fdata.Get('TightOS2Jet/ePt')\n",
    "hemb = femb.Get('TightOS2Jet/ePt')\n",
    "hm = hmc.Clone()\n",
    "hm.Add(hqcd)\n",
    "h2 = hdata.Clone()\n",
    "h2.Add(hm, -1)\n",
    "h2.Divide(hemb)\n",
    "\n",
    "hmc = fmc.Get('TightOS2JetVBF/ePt')\n",
    "hmcss = fmcss.Get('TightSS2JetVBF/ePt')\n",
    "hdatass = fdata.Get('TightSS2JetVBF/ePt')\n",
    "hqcd = hdatass.Clone()\n",
    "hqcd.Add(hmcss, -1)\n",
    "hdata = fdata.Get('TightOS2JetVBF/ePt')\n",
    "hemb = femb.Get('TightOS2JetVBF/ePt')\n",
    "hm = hmc.Clone()\n",
    "hm.Add(hqcd)\n",
    "h3 = hdata.Clone()\n",
    "h3.Add(hm, -1)\n",
    "h3.Divide(hemb)\n",
    "\n",
    "hdata.Delete()\n",
    "hmc.Delete()\n",
    "hmcss.Delete()\n",
    "hdatass.Delete()\n",
    "hqcd.Delete()\n",
    "hemb.Delete()\n",
    "hm.Delete()\n",
    "\n",
    "f = TFile('Pt.root',\"RECREATE\")\n",
    "f.cd()\n",
    "\n",
    "h0.SetName(\"0Jet\")\n",
    "h1.SetName(\"1Jet\")\n",
    "h2.SetName(\"2Jet\")\n",
    "h3.SetName(\"2JetVBF\")\n",
    "h0.Write()\n",
    "h1.Write()\n",
    "h2.Write()\n",
    "h3.Write()\n",
    "f.Close()"
   ]
  },
  {
   "cell_type": "code",
   "execution_count": null,
   "metadata": {},
   "outputs": [],
   "source": []
  }
 ],
 "metadata": {
  "kernelspec": {
   "display_name": "Python 2",
   "language": "python",
   "name": "python2"
  },
  "language_info": {
   "codemirror_mode": {
    "name": "ipython",
    "version": 2
   },
   "file_extension": ".py",
   "mimetype": "text/x-python",
   "name": "python",
   "nbconvert_exporter": "python",
   "pygments_lexer": "ipython2",
   "version": "2.7.14+"
  }
 },
 "nbformat": 4,
 "nbformat_minor": 2
}
