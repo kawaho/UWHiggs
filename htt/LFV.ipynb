{
 "cells": [
  {
   "cell_type": "code",
   "execution_count": 1,
   "metadata": {},
   "outputs": [
    {
     "name": "stdout",
     "output_type": "stream",
     "text": [
      "Welcome to JupyROOT 6.14/04\n",
      "               mPt         tPt  dPhiMuTau  dEtaMuTau  type1_pfMetEt  \\\n",
      "0       127.534698   40.857040   1.874537   0.299006      29.954220   \n",
      "1        55.673016   64.135803   3.103957   0.001630      17.638336   \n",
      "2        61.965294   41.170265   2.665531   0.430505      35.479137   \n",
      "3        65.102623   34.385368   2.709900   0.952318      17.245623   \n",
      "4        64.027489   34.864071   2.968166   0.472034      26.082758   \n",
      "5        47.004307   43.467762   2.109716   1.605180      18.687693   \n",
      "6        56.403778   35.984436   2.696020   0.147612      13.599823   \n",
      "7        49.785145   41.456894   2.963447   1.150193      26.616776   \n",
      "8        65.448242   36.881042   3.137848   0.340434      72.160683   \n",
      "9        39.681168   63.421822   2.790266   0.699730      62.765610   \n",
      "10       54.367619   50.109386   3.077994   0.494990      11.886500   \n",
      "11       86.899460   43.689690   1.651395   1.272874      27.529051   \n",
      "12       76.045921   32.038799   2.818599   0.576767      51.359577   \n",
      "13       38.701973   89.384270   2.924324   0.203010       4.913752   \n",
      "14       94.820267   36.982548   2.037871   0.154072      23.205450   \n",
      "15       63.211510   33.083405   2.436628   0.791825      51.239765   \n",
      "16       71.465378  163.421371   0.303487   0.918389      66.104378   \n",
      "17       61.949921   33.790440   2.784694   1.044646      62.536205   \n",
      "18       53.615883   55.760910   2.982042   0.769279      16.735147   \n",
      "19       80.745888   33.205441   2.579829   0.518507      28.599535   \n",
      "20       48.141312   40.385193   3.128990   0.382573      13.039008   \n",
      "21       52.964970   31.646521   2.567524   1.787829      15.806140   \n",
      "22       73.006264   42.495739   3.109383   0.069773      51.214039   \n",
      "23       43.762127   43.404720   1.569569   1.830466      72.469109   \n",
      "24      130.429214   32.756123   2.046543   0.667648       5.257314   \n",
      "25       46.695194   71.982155   2.677762   0.443996      37.995831   \n",
      "26       66.055672   49.313374   3.016918   0.390342      57.922253   \n",
      "27       70.418655   45.177055   2.035778   0.724395      11.427389   \n",
      "28       48.124897   38.228127   3.101409   1.329523       6.436281   \n",
      "29       54.988869   32.716614   3.108088   0.915982      35.438362   \n",
      "...            ...         ...        ...        ...            ...   \n",
      "229388   52.123486   45.914806   2.714914   1.200025      68.212967   \n",
      "229389   70.323410   35.364750   2.351615   0.738523      44.094742   \n",
      "229390   92.129547   33.446560   1.747495   0.066343      31.338591   \n",
      "229391   37.699581   50.926971   2.914241   0.445215      33.169994   \n",
      "229392   72.369591   34.230625   2.450996   0.957479       9.867263   \n",
      "229393   69.360420   53.147598   3.082358   0.448336      35.538006   \n",
      "229394  108.142914   33.447960   1.799062   0.580517      36.085873   \n",
      "229395   91.570244   36.291386   2.088647   0.699908      52.778793   \n",
      "229396  176.513046   77.232018   0.884116   0.484840      16.425446   \n",
      "229397   49.657284   30.174004   3.130660   0.391674      64.438904   \n",
      "229398   40.607800   49.932446   1.858772   1.693151      47.118069   \n",
      "229399   36.358124   51.857170   2.067035   1.725083      66.117950   \n",
      "229400  112.813103   38.568073   2.148098   0.279822      22.391754   \n",
      "229401  125.812820   30.350367   2.410668   0.012028      35.492607   \n",
      "229402   51.841892   55.644623   2.721670   0.293752      16.554016   \n",
      "229403  120.920357   31.717566   2.475854   0.104491       8.940083   \n",
      "229404   40.479233   49.538502   2.885157   0.524159      39.076015   \n",
      "229405   47.866955   46.136429   3.079170   0.024251      21.767017   \n",
      "229406   76.039772   36.034065   2.548544   0.541549      78.128036   \n",
      "229407   68.657837   47.829418   2.187223   0.817975      17.967361   \n",
      "229408   88.163574   48.708611   1.904725   0.044998      56.972885   \n",
      "229409   39.330780  103.664589   2.182567   0.610399      57.401764   \n",
      "229410  129.963425   43.356667   1.521783   0.568986      24.247156   \n",
      "229411   94.038864   38.682827   1.632835   0.127276      70.526009   \n",
      "229412   49.345894   33.639496   1.998025   1.824072      14.418721   \n",
      "229413  115.084915   37.659824   0.980950   0.580562      54.960041   \n",
      "229414   60.291878   44.052040   3.096540   0.761894      46.457214   \n",
      "229415  104.954811   42.395782   1.663427   0.910663      33.251770   \n",
      "229416   63.094807   30.683491   2.882689   0.429880      41.878437   \n",
      "229417   64.557510   36.812386   2.329173   0.895595       9.792890   \n",
      "\n",
      "        m_t_collinearMass    MTTauMET  dPhiTauMET    weight  \n",
      "0              152.649826   15.374537    0.441247  0.118683  \n",
      "1              127.079948   34.409004    1.073905  0.116969  \n",
      "2              135.648132   12.238617    0.319654  0.118187  \n",
      "3              112.435631   27.662214    1.208079  0.132417  \n",
      "4              120.252571   22.332684    0.758376  0.119275  \n",
      "5              132.482178   13.237659    0.467380  0.006403  \n",
      "6              103.064224    5.210181    0.235390  0.112656  \n",
      "7              133.609985   65.045715    2.731525  0.002226  \n",
      "8              149.968140   43.433105    0.869002  0.086381  \n",
      "9              145.070267   25.965729    0.414499  0.099141  \n",
      "10             116.620110   17.572897    0.736577  0.086456  \n",
      "11             153.048950   66.771187    2.593319  0.070850  \n",
      "12             163.753067    3.792079    0.091449  0.114438  \n",
      "13             118.309898   25.903839    1.332404  0.115293  \n",
      "14             122.950386   54.893990    2.427176  0.077025  \n",
      "15             120.994637   43.822311    1.121569  0.089735  \n",
      "16             126.852448  205.136200    2.816494  0.106992  \n",
      "17             103.721359   64.763229    1.563220  0.079248  \n",
      "18             132.766983   10.548724    0.344537  0.114032  \n",
      "19             139.708694    7.644053    0.248649  0.027260  \n",
      "20              97.497620   21.744631    0.986481  0.109990  \n",
      "21             131.752487   40.607426    2.276108  0.118162  \n",
      "22             156.091187   88.460350    2.494374  0.027268  \n",
      "23             173.551773  108.933533    2.660003  0.117693  \n",
      "24             126.558914   10.580633    0.823676  0.103053  \n",
      "25             140.934418   21.974201    0.423170  0.119212  \n",
      "26             161.662567  101.376831    2.496468  0.120014  \n",
      "27             105.929054   33.629765    1.657770  0.122230  \n",
      "28             113.938576   31.348118    3.063770  0.110899  \n",
      "29             135.005981    5.639975    0.165816  0.086874  \n",
      "...                   ...         ...         ...       ...  \n",
      "229388         130.395554   86.904320    1.777783  0.006734  \n",
      "229389         143.085175   76.113792    2.600992  0.008921  \n",
      "229390         117.054314   10.611716    0.328457  0.010728  \n",
      "229391         114.468956   81.983215    2.992417  0.007758  \n",
      "229392         118.673576    8.858941    0.486751  0.019226  \n",
      "229393         148.010162   37.902859    0.902303  0.006991  \n",
      "229394         130.851059   62.926201    2.265473  0.005647  \n",
      "229395         125.278435   68.926437    1.813323  0.010996  \n",
      "229396         117.070450   46.095871    1.407553  0.005350  \n",
      "229397         121.869026   36.959419    0.864867  0.008899  \n",
      "229398         132.160812   52.464420    1.142641  0.007494  \n",
      "229399         164.756439   27.443075    0.473057  0.007607  \n",
      "229400         134.228607   51.361824    2.126241  0.008944  \n",
      "229401         157.454575   61.153610    2.397654  0.009244  \n",
      "229402         117.416435   21.748497    0.732387  0.009041  \n",
      "229403         129.385300   11.387917    0.688426  0.008996  \n",
      "229404         120.886696   17.224052    0.393586  0.006459  \n",
      "229405         113.403221    7.930592    0.250890  0.008662  \n",
      "229406         175.121124  101.853249    2.571640  0.009110  \n",
      "229407         116.551735   37.363262    1.381691  0.005313  \n",
      "229408         137.452393   49.394279    0.975917  0.004115  \n",
      "229409         145.534317  148.340149    2.584220  0.008256  \n",
      "229410         138.240829   12.545309    0.388915  0.008598  \n",
      "229411         145.600906   17.384365    0.333915  0.008953  \n",
      "229412         123.336571   18.644581    0.874102  0.008698  \n",
      "229413         114.405640    5.950958    0.130810  0.008501  \n",
      "229414         153.766449   21.859121    0.487254  0.008736  \n",
      "229415         118.180214   53.816742    1.597887  0.006606  \n",
      "229416         123.113449   29.622053    0.851584  0.007790  \n",
      "229417         109.190590   34.972126    2.340573  0.000680  \n",
      "\n",
      "[229418 rows x 9 columns]\n"
     ]
    }
   ],
   "source": [
    "import ROOT\n",
    "import pandas\n",
    "import numpy as np\n",
    "np.random.seed(1234)\n",
    "\n",
    "filename = \"BDTNoMFakes.root\"\n",
    "# Specify variables which shall be used as input for the neural network\n",
    "variables = [\"mPt\", \"tPt\", \"dPhiMuTau\", \"dEtaMuTau\", \"type1_pfMetEt\", \"m_t_collinearMass\", \"MTTauMET\", \"dPhiTauMET\"]\n",
    "\n",
    "def load_tree(filename, treename):\n",
    "    f = ROOT.TFile(filename)\n",
    "    t = f.Get(treename)\n",
    "    data, labels = t.AsMatrix(columns=variables + [\"weight\"], return_labels=True)\n",
    "    return pandas.DataFrame(data=data, columns=labels)\n",
    "\n",
    "# Load data from ROOT TTrees to panda dataframes\n",
    "signal = load_tree(filename, \"TreeS\")\n",
    "background = load_tree(filename, \"TreeB\")\n",
    "\n",
    "# Show the content of a dataframe\n",
    "#print(background)\n",
    "print(signal)"
   ]
  },
  {
   "cell_type": "code",
   "execution_count": 2,
   "metadata": {},
   "outputs": [],
   "source": [
    "# Sum of all event weights is needed for reweighting to equal importance\n",
    "sum_weights = np.sum(signal[\"weight\"]) + np.sum(background[\"weight\"])\n",
    "\n",
    "# Function to reweight the weights to equal importance\n",
    "def reweight(df):\n",
    "    df[\"weight_reweighted\"] = df[\"weight\"] * sum_weights / np.sum(df[\"weight\"])\n",
    "\n",
    "# Run the reweighting on the pandas dataframe\n",
    "reweight(signal)\n",
    "reweight(background)"
   ]
  },
  {
   "cell_type": "code",
   "execution_count": 3,
   "metadata": {
    "scrolled": false
   },
   "outputs": [],
   "source": [
    "import matplotlib.pyplot as plt\n",
    "\n",
    "# Function to plot a variable\n",
    "def plot(variable):\n",
    "    plt.figure()\n",
    "    range_ = np.percentile(signal[variable], (5, 95))\n",
    "    plt.hist(\n",
    "        [signal[variable], background[variable]],\n",
    "        range=range_,\n",
    "        #bins=30,\n",
    "        weights=[\n",
    "            signal[\"weight_reweighted\"],\n",
    "            background[\"weight_reweighted\"]],\n",
    "        histtype=\"step\",\n",
    "        lw=2,\n",
    "        label=(\"signal\", \"background\"))\n",
    "    plt.xlabel(variable)\n",
    "    plt.legend()\n",
    "\n",
    "# Loop over variables and plot each one\n",
    "for var in variables:\n",
    "    plot(var)"
   ]
  },
  {
   "cell_type": "code",
   "execution_count": 4,
   "metadata": {
    "scrolled": true
   },
   "outputs": [
    {
     "name": "stderr",
     "output_type": "stream",
     "text": [
      "/cvmfs/sft.cern.ch/lcg/views/LCG_94/x86_64-centos7-gcc8-opt/lib/python2.7/site-packages/ipykernel_launcher.py:3: FutureWarning: Method .as_matrix will be removed in a future version. Use .values instead.\n",
      "  This is separate from the ipykernel package so we can avoid doing imports until\n",
      "/cvmfs/sft.cern.ch/lcg/views/LCG_94/x86_64-centos7-gcc8-opt/lib/python2.7/site-packages/ipykernel_launcher.py:4: FutureWarning: Method .as_matrix will be removed in a future version. Use .values instead.\n",
      "  after removing the cwd from sys.path.\n"
     ]
    },
    {
     "name": "stdout",
     "output_type": "stream",
     "text": [
      "Variables:\n",
      "['mPt', 'tPt', 'dPhiMuTau', 'dEtaMuTau', 'type1_pfMetEt', 'm_t_collinearMass', 'MTTauMET', 'dPhiTauMET']\n",
      "\n",
      "Inputs:\n",
      "[[127.53469849  40.85704041   1.87453699 ... 152.64982605  15.37453747\n",
      "    0.44124684]\n",
      " [ 55.67301559  64.13580322   3.10395694 ... 127.07994843  34.40900421\n",
      "    1.07390487]\n",
      " [ 61.96529388  41.1702652    2.6655314  ... 135.64813232  12.23861694\n",
      "    0.31965429]\n",
      " ...\n",
      " [ 40.33189774  35.78040695   3.02741408 ... 121.95365143  21.02047729\n",
      "    0.67051148]\n",
      " [ 77.53773499  57.17890167   3.02356911 ... 279.15966797  17.92713547\n",
      "    0.28126413]\n",
      " [ 63.64655304  46.12130356   2.84808707 ... 155.3684845   46.97984314\n",
      "    0.96187961]]\n",
      "\n",
      "Weights:\n",
      "[0.45062723 0.44411982 0.44874654 ... 0.36436901 0.36436901 0.2758794 ]\n",
      "\n",
      "Targets:\n",
      "[[1. 0.]\n",
      " [1. 0.]\n",
      " [1. 0.]\n",
      " ...\n",
      " [0. 1.]\n",
      " [0. 1.]\n",
      " [0. 1.]]\n",
      "\n"
     ]
    }
   ],
   "source": [
    "# Function to extract numpy array from pandas dataframe\n",
    "def load_data(df, index):\n",
    "    x = df.as_matrix(columns=variables)\n",
    "    w = df.as_matrix(columns=[\"weight_reweighted\"])\n",
    "    y = np.zeros((x.shape[0], 2))\n",
    "    y[:, index] = 1\n",
    "    return x, w, y\n",
    "\n",
    "# Load data from dataframe to numpy arrays\n",
    "signal_x, signal_w, signal_y = load_data(signal, 0)\n",
    "background_x, background_w, background_y = load_data(background, 1)\n",
    "\n",
    "# Stack numpy arrays of different processes to single array\n",
    "x = np.vstack([signal_x, background_x])\n",
    "w = np.vstack([signal_w, background_w]).squeeze()\n",
    "y = np.vstack([signal_y, background_y])\n",
    "\n",
    "# Print what we are doing\n",
    "print(\"Variables:\\n{}\\n\".format(variables))\n",
    "print(\"Inputs:\\n{}\\n\".format(x))\n",
    "print(\"Weights:\\n{}\\n\".format(w))\n",
    "print(\"Targets:\\n{}\\n\".format(y))"
   ]
  },
  {
   "cell_type": "code",
   "execution_count": 5,
   "metadata": {},
   "outputs": [
    {
     "name": "stderr",
     "output_type": "stream",
     "text": [
      "Using Theano backend.\n"
     ]
    },
    {
     "name": "stdout",
     "output_type": "stream",
     "text": [
      "_________________________________________________________________\n",
      "Layer (type)                 Output Shape              Param #   \n",
      "=================================================================\n",
      "dense_1 (Dense)              (None, 100)               900       \n",
      "_________________________________________________________________\n",
      "dropout_1 (Dropout)          (None, 100)               0         \n",
      "_________________________________________________________________\n",
      "dense_2 (Dense)              (None, 2)                 202       \n",
      "=================================================================\n",
      "Total params: 1,102\n",
      "Trainable params: 1,102\n",
      "Non-trainable params: 0\n",
      "_________________________________________________________________\n"
     ]
    }
   ],
   "source": [
    "from keras.models import Sequential\n",
    "from keras.layers import Dense, Dropout\n",
    "\n",
    "# Stack layers defining neural network architecture\n",
    "model = Sequential()\n",
    "model.add(Dense(100, activation=\"relu\", input_dim=len(variables)))\n",
    "model.add(Dropout(0.2))\n",
    "model.add(Dense(2, activation=\"softmax\"))\n",
    "\n",
    "# Specify loss function and optimizer algorithm\n",
    "model.compile(loss=\"categorical_crossentropy\", optimizer=\"adam\", metrics=['accuracy'])\n",
    "\n",
    "# Print architecture\n",
    "model.summary()"
   ]
  },
  {
   "cell_type": "code",
   "execution_count": 6,
   "metadata": {
    "scrolled": false
   },
   "outputs": [
    {
     "name": "stdout",
     "output_type": "stream",
     "text": [
      "Train on 174626 samples, validate on 174627 samples\n",
      "Epoch 1/50\n",
      "174626/174626 [==============================] - 3s 15us/step - loss: 0.6376 - acc: 0.6433 - val_loss: 0.1494 - val_acc: 0.7710\n",
      "Epoch 2/50\n",
      "174626/174626 [==============================] - 3s 15us/step - loss: 0.1629 - acc: 0.7208 - val_loss: 0.1362 - val_acc: 0.7695\n",
      "Epoch 3/50\n",
      "174626/174626 [==============================] - 3s 14us/step - loss: 0.1404 - acc: 0.7605 - val_loss: 0.1311 - val_acc: 0.8001\n",
      "Epoch 4/50\n",
      "174626/174626 [==============================] - 3s 14us/step - loss: 0.1329 - acc: 0.7816 - val_loss: 0.1245 - val_acc: 0.7954\n",
      "Epoch 5/50\n",
      "174626/174626 [==============================] - 3s 14us/step - loss: 0.1273 - acc: 0.7961 - val_loss: 0.1213 - val_acc: 0.8185\n",
      "Epoch 6/50\n",
      "174626/174626 [==============================] - 3s 14us/step - loss: 0.1243 - acc: 0.8024 - val_loss: 0.1192 - val_acc: 0.8233\n",
      "Epoch 7/50\n",
      "174626/174626 [==============================] - 3s 15us/step - loss: 0.1219 - acc: 0.8080 - val_loss: 0.1146 - val_acc: 0.8201\n",
      "Epoch 8/50\n",
      "174626/174626 [==============================] - 3s 14us/step - loss: 0.1196 - acc: 0.8118 - val_loss: 0.1125 - val_acc: 0.8296\n",
      "Epoch 9/50\n",
      "174626/174626 [==============================] - 3s 14us/step - loss: 0.1176 - acc: 0.8151 - val_loss: 0.1109 - val_acc: 0.8275\n",
      "Epoch 10/50\n",
      "174626/174626 [==============================] - 3s 14us/step - loss: 0.1162 - acc: 0.8182 - val_loss: 0.1095 - val_acc: 0.8318\n",
      "Epoch 11/50\n",
      "174626/174626 [==============================] - 3s 15us/step - loss: 0.1144 - acc: 0.8224 - val_loss: 0.1066 - val_acc: 0.8391\n",
      "Epoch 12/50\n",
      "174626/174626 [==============================] - 3s 14us/step - loss: 0.1126 - acc: 0.8237 - val_loss: 0.1068 - val_acc: 0.8464\n",
      "Epoch 13/50\n",
      "174626/174626 [==============================] - 3s 14us/step - loss: 0.1114 - acc: 0.8261 - val_loss: 0.1039 - val_acc: 0.8432\n",
      "Epoch 14/50\n",
      "174626/174626 [==============================] - 3s 14us/step - loss: 0.1101 - acc: 0.8285 - val_loss: 0.1046 - val_acc: 0.8460\n",
      "Epoch 15/50\n",
      "174626/174626 [==============================] - 3s 14us/step - loss: 0.1097 - acc: 0.8291 - val_loss: 0.1022 - val_acc: 0.8465\n",
      "Epoch 16/50\n",
      "174626/174626 [==============================] - 3s 15us/step - loss: 0.1091 - acc: 0.8307 - val_loss: 0.1019 - val_acc: 0.8491\n",
      "Epoch 17/50\n",
      "174626/174626 [==============================] - 3s 15us/step - loss: 0.1084 - acc: 0.8321 - val_loss: 0.1016 - val_acc: 0.8467\n",
      "Epoch 18/50\n",
      "174626/174626 [==============================] - 3s 14us/step - loss: 0.1072 - acc: 0.8340 - val_loss: 0.1005 - val_acc: 0.8483\n",
      "Epoch 19/50\n",
      "174626/174626 [==============================] - 3s 15us/step - loss: 0.1069 - acc: 0.8344 - val_loss: 0.1007 - val_acc: 0.8384\n",
      "Epoch 20/50\n",
      "174626/174626 [==============================] - 3s 15us/step - loss: 0.1063 - acc: 0.8337 - val_loss: 0.1001 - val_acc: 0.8534\n",
      "Epoch 21/50\n",
      "174626/174626 [==============================] - 3s 15us/step - loss: 0.1054 - acc: 0.8366 - val_loss: 0.1006 - val_acc: 0.8499\n",
      "Epoch 22/50\n",
      "174626/174626 [==============================] - 3s 14us/step - loss: 0.1054 - acc: 0.8373 - val_loss: 0.0987 - val_acc: 0.8481\n",
      "Epoch 23/50\n",
      "174626/174626 [==============================] - 3s 14us/step - loss: 0.1045 - acc: 0.8381 - val_loss: 0.0986 - val_acc: 0.8519\n",
      "Epoch 24/50\n",
      "174626/174626 [==============================] - 3s 15us/step - loss: 0.1043 - acc: 0.8395 - val_loss: 0.0979 - val_acc: 0.8476\n",
      "Epoch 25/50\n",
      "174626/174626 [==============================] - 3s 14us/step - loss: 0.1042 - acc: 0.8381 - val_loss: 0.0978 - val_acc: 0.8581\n",
      "Epoch 26/50\n",
      "174626/174626 [==============================] - 3s 14us/step - loss: 0.1040 - acc: 0.8389 - val_loss: 0.0971 - val_acc: 0.8521\n",
      "Epoch 27/50\n",
      "174626/174626 [==============================] - 3s 15us/step - loss: 0.1030 - acc: 0.8402 - val_loss: 0.0970 - val_acc: 0.8544\n",
      "Epoch 28/50\n",
      "174626/174626 [==============================] - 3s 14us/step - loss: 0.1029 - acc: 0.8401 - val_loss: 0.0975 - val_acc: 0.8446\n",
      "Epoch 29/50\n",
      "174626/174626 [==============================] - 3s 14us/step - loss: 0.1029 - acc: 0.8409 - val_loss: 0.0961 - val_acc: 0.8544\n",
      "Epoch 30/50\n",
      "174626/174626 [==============================] - 3s 14us/step - loss: 0.1031 - acc: 0.8417 - val_loss: 0.0975 - val_acc: 0.8514\n",
      "Epoch 31/50\n",
      "174626/174626 [==============================] - 3s 15us/step - loss: 0.1024 - acc: 0.8412 - val_loss: 0.0963 - val_acc: 0.8552\n",
      "Epoch 32/50\n",
      "174626/174626 [==============================] - 3s 14us/step - loss: 0.1020 - acc: 0.8428 - val_loss: 0.0962 - val_acc: 0.8538\n",
      "Epoch 33/50\n",
      "174626/174626 [==============================] - 3s 15us/step - loss: 0.1017 - acc: 0.8433 - val_loss: 0.0963 - val_acc: 0.8476\n",
      "Epoch 34/50\n",
      "174626/174626 [==============================] - 3s 15us/step - loss: 0.1015 - acc: 0.8436 - val_loss: 0.0958 - val_acc: 0.8471\n",
      "Epoch 35/50\n",
      "174626/174626 [==============================] - 3s 14us/step - loss: 0.1012 - acc: 0.8427 - val_loss: 0.0978 - val_acc: 0.8526\n",
      "Epoch 36/50\n",
      "174626/174626 [==============================] - 3s 14us/step - loss: 0.1016 - acc: 0.8442 - val_loss: 0.0958 - val_acc: 0.8524\n",
      "Epoch 37/50\n",
      "174626/174626 [==============================] - 3s 14us/step - loss: 0.1012 - acc: 0.8440 - val_loss: 0.0956 - val_acc: 0.8521\n",
      "Epoch 38/50\n",
      "174626/174626 [==============================] - 3s 15us/step - loss: 0.1007 - acc: 0.8449 - val_loss: 0.0946 - val_acc: 0.8522\n",
      "Epoch 39/50\n",
      "174626/174626 [==============================] - 3s 14us/step - loss: 0.1012 - acc: 0.8451 - val_loss: 0.0948 - val_acc: 0.8482\n",
      "Epoch 40/50\n",
      "174626/174626 [==============================] - 3s 14us/step - loss: 0.1008 - acc: 0.8444 - val_loss: 0.0950 - val_acc: 0.8527\n",
      "Epoch 41/50\n",
      "174626/174626 [==============================] - 3s 14us/step - loss: 0.1002 - acc: 0.8462 - val_loss: 0.0953 - val_acc: 0.8507\n",
      "Epoch 42/50\n",
      "174626/174626 [==============================] - 3s 14us/step - loss: 0.1002 - acc: 0.8464 - val_loss: 0.0948 - val_acc: 0.8561\n",
      "Epoch 43/50\n",
      "174626/174626 [==============================] - 3s 14us/step - loss: 0.0999 - acc: 0.8460 - val_loss: 0.0965 - val_acc: 0.8545\n",
      "Epoch 44/50\n",
      "174626/174626 [==============================] - 3s 15us/step - loss: 0.0999 - acc: 0.8456 - val_loss: 0.0938 - val_acc: 0.8561\n",
      "Epoch 45/50\n",
      "174626/174626 [==============================] - 3s 15us/step - loss: 0.0996 - acc: 0.8466 - val_loss: 0.0945 - val_acc: 0.8538\n",
      "Epoch 46/50\n",
      "174626/174626 [==============================] - 3s 14us/step - loss: 0.0993 - acc: 0.8471 - val_loss: 0.0938 - val_acc: 0.8563\n",
      "Epoch 47/50\n",
      "174626/174626 [==============================] - 3s 14us/step - loss: 0.0991 - acc: 0.8480 - val_loss: 0.0945 - val_acc: 0.8518\n",
      "Epoch 48/50\n",
      "174626/174626 [==============================] - 3s 14us/step - loss: 0.0994 - acc: 0.8468 - val_loss: 0.0944 - val_acc: 0.8527\n",
      "Epoch 49/50\n",
      "174626/174626 [==============================] - 3s 14us/step - loss: 0.0988 - acc: 0.8480 - val_loss: 0.0937 - val_acc: 0.8577\n",
      "Epoch 50/50\n",
      "174626/174626 [==============================] - 3s 14us/step - loss: 0.0987 - acc: 0.8481 - val_loss: 0.0940 - val_acc: 0.8496\n"
     ]
    }
   ],
   "source": [
    "from sklearn.model_selection import train_test_split\n",
    "\n",
    "# Split dataset in training and validation part used for the gradient steps and monitoring of the training\n",
    "x_train, x_val, y_train, y_val, w_train, w_val = train_test_split(x, y, w, test_size=0.5, random_state=1234)\n",
    "\n",
    "# Train the neural network\n",
    "history = model.fit(\n",
    "                x_train, y_train,\n",
    "                sample_weight=w_train,\n",
    "                batch_size=1000,\n",
    "                epochs=50,\n",
    "                validation_data=(x_val, y_val, w_val))"
   ]
  },
  {
   "cell_type": "code",
   "execution_count": 7,
   "metadata": {},
   "outputs": [
    {
     "data": {
      "image/png": "[encoded data removed]",
      "text/plain": [
       "<Figure size 432x288 with 1 Axes>"
      ]
     },
     "metadata": {},
     "output_type": "display_data"
    }
   ],
   "source": [
    "# Extract number of run epochs from the training history\n",
    "epochs = range(1, len(history.history[\"loss\"])+1)\n",
    "\n",
    "# Extract loss on training and validation dataset and plot them together\n",
    "plt.plot(epochs, history.history[\"loss\"], \"o-\", label=\"Training\")\n",
    "plt.plot(epochs, history.history[\"val_loss\"], \"o-\", label=\"Validation\")\n",
    "plt.xlabel(\"Epochs\"), plt.ylabel(\"Loss\")\n",
    "plt.yscale(\"log\")\n",
    "plt.legend();"
   ]
  },
  {
   "cell_type": "code",
   "execution_count": 8,
   "metadata": {},
   "outputs": [
    {
     "data": {
      "image/png": "[encoded data removed]",
      "text/plain": [
       "<Figure size 432x288 with 1 Axes>"
      ]
     },
     "metadata": {},
     "output_type": "display_data"
    }
   ],
   "source": [
    "# Extract number of run epochs from the training history\n",
    "epochs = range(1, len(history.history[\"loss\"])+1)\n",
    "\n",
    "# Extract accuracy on training and validation dataset and plot them together\n",
    "plt.plot(epochs, history.history[\"acc\"], \"o-\", label=\"Training\")\n",
    "plt.plot(epochs, history.history[\"val_acc\"], \"o-\", label=\"Validation\")\n",
    "plt.xlabel(\"Epochs\"), plt.ylabel(\"Accuracy\")\n",
    "plt.legend();"
   ]
  },
  {
   "cell_type": "code",
   "execution_count": 9,
   "metadata": {},
   "outputs": [
    {
     "name": "stdout",
     "output_type": "stream",
     "text": [
      "Predictions of signal events:\n",
      "[[0.83349377 0.16650622]\n",
      " [0.9363054  0.06369457]\n",
      " [0.87061185 0.12938817]\n",
      " ...\n",
      " [0.86405987 0.13594012]\n",
      " [0.74325925 0.25674075]\n",
      " [0.85633594 0.14366405]]\n",
      "\n",
      "Mean probability per process:\n",
      "[0.74547684 0.25453907]\n",
      "\n"
     ]
    }
   ],
   "source": [
    "# Get neural network prediction for each MC sample\n",
    "signal_predictions = model.predict(signal_x)\n",
    "background_predictions = model.predict(background_x)\n",
    "\n",
    "# Print predictions showing probability for each process\n",
    "print(\"Predictions of signal events:\\n{}\\n\".format(\n",
    "    signal_predictions))\n",
    "print(\"Mean probability per process:\\n{}\\n\".format(\n",
    "    np.mean(signal_predictions, axis=0)))"
   ]
  },
  {
   "cell_type": "code",
   "execution_count": 10,
   "metadata": {},
   "outputs": [],
   "source": [
    "# These are our processes\n",
    "processes = [\"signal\", \"background\"]\n",
    "\n",
    "# Structure categories\n",
    "categories = {}\n",
    "for category in processes: # Make dedicated category for each process\n",
    "    categories[category] = {}\n",
    "    for process in processes: # Store NN scores and event weights of each process contributing to this category\n",
    "        categories[category][process] = {\"scores\": [], \"weights\": []}\n",
    "\n",
    "predictions = {\n",
    "    \"signal\": signal_predictions,\n",
    "    \"background\": background_predictions\n",
    "}\n",
    "weights = {\n",
    "    \"signal\": signal[\"weight\"],\n",
    "    \"background\": background[\"weight\"]\n",
    "}\n",
    "\n",
    "# Loop over processes\n",
    "for i_process, process in enumerate(processes):\n",
    "    # Loop over events of this process\n",
    "    n_events = predictions[process].shape[0]\n",
    "    for i_event in range(n_events):\n",
    "        # Find category for this event and retrieve NN score\n",
    "        p = predictions[process][i_event] # e.g., [0.3, 0.5, 0.2]\n",
    "        max_index = np.argmax(p)          #             1\n",
    "        max_score = p[max_index]          #             0.5\n",
    "        category = processes[max_index]   #             \"ztt\"\n",
    "        \n",
    "        # Store NN score and event weight for this event in respective category\n",
    "        categories[category][process][\"scores\"].append(\n",
    "            max_score\n",
    "        )\n",
    "        categories[category][process][\"weights\"].append(\n",
    "            weights[process][i_event]\n",
    "        )"
   ]
  },
  {
   "cell_type": "code",
   "execution_count": 11,
   "metadata": {},
   "outputs": [
    {
     "data": {
      "image/png": "[encoded data removed]",
      "text/plain": [
       "<Figure size 432x288 with 1 Axes>"
      ]
     },
     "metadata": {},
     "output_type": "display_data"
    },
    {
     "data": {
      "image/png": "[encoded data removed]",
      "text/plain": [
       "<Figure size 432x288 with 1 Axes>"
      ]
     },
     "metadata": {},
     "output_type": "display_data"
    }
   ],
   "source": [
    "def plot(label, logscale=False):\n",
    "    category = categories[label]\n",
    "    plt.figure()\n",
    "    bins = np.linspace(0.33, 1.0, 10)\n",
    "    for process in category:\n",
    "        plt.hist(\n",
    "            np.array(category[process][\"scores\"]),\n",
    "            weights=np.array(category[process][\"weights\"]),\n",
    "            #bins=bins,\n",
    "            histtype=\"step\",\n",
    "            lw=2,\n",
    "            label=process)\n",
    "    plt.title(label)\n",
    "    plt.xlabel(\"NN score\")\n",
    "    #plt.xlim((bins[0], bins[-1]))\n",
    "    if logscale:\n",
    "        plt.yscale(\"log\")\n",
    "    plt.legend()\n",
    "    \n",
    "# Plot categories\n",
    "plot(\"signal\")#, logscale=True)\n",
    "plot(\"background\", logscale=True)"
   ]
  },
  {
   "cell_type": "code",
   "execution_count": 12,
   "metadata": {},
   "outputs": [],
   "source": [
    "model.save('NN.h5')\n",
    "model_json = model.to_json()\n",
    "with open(\"model.json\", \"w\") as json_file:\n",
    "    json_file.write(model_json)\n",
    "\n",
    "model.save_weights('NN_weights.h5')"
   ]
  },
  {
   "cell_type": "code",
   "execution_count": 13,
   "metadata": {},
   "outputs": [
    {
     "name": "stdout",
     "output_type": "stream",
     "text": [
      "[[0.930268   0.06973198]]\n"
     ]
    }
   ],
   "source": [
    "from keras.models import load_model\n",
    "import numpy as np\n",
    "model = load_model('NNtf.h5')\n",
    "#pred = [[38.902351, 30.035307, 2.589421, 0.638355, 20.325911, 89.910355, 0.622604, 0.019863]]\n",
    "pred = [[85.433296, 43.545998, 2.442940, 0.403881, 14.301805, 135.165955, 49.902340, 3.093282]]\n",
    "prediction = model.predict(np.array(pred)) \n",
    "print prediction"
   ]
  },
  {
   "cell_type": "code",
   "execution_count": null,
   "metadata": {
    "collapsed": true
   },
   "outputs": [],
   "source": []
  }
 ],
 "metadata": {
  "kernelspec": {
   "display_name": "Python 2",
   "language": "python",
   "name": "python2"
  },
  "language_info": {
   "codemirror_mode": {
    "name": "ipython",
    "version": 2
   },
   "file_extension": ".py",
   "mimetype": "text/x-python",
   "name": "python",
   "nbconvert_exporter": "python",
   "pygments_lexer": "ipython2",
   "version": "2.7.15"
  }
 },
 "nbformat": 4,
 "nbformat_minor": 2
}
