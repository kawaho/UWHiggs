{
 "cells": [
  {
   "cell_type": "code",
   "execution_count": 1,
   "metadata": {},
   "outputs": [
    {
     "name": "stdout",
     "output_type": "stream",
     "text": [
      "Welcome to JupyROOT 6.14/04\n",
      "               mPt         tPt  dPhiMuTau  dEtaMuTau  type1_pfMetEt  \\\n",
      "0       108.265846   35.695950   2.310037   0.046777      10.101849   \n",
      "1        63.740334   52.756042   2.098986   1.203086      39.524715   \n",
      "2        45.081615   50.178200   2.743023   1.546840      30.840586   \n",
      "3       126.921913  178.036697   0.779234   0.105408      29.201199   \n",
      "4        88.798439   48.057083   1.344122   0.877937      25.994940   \n",
      "5        53.616459   74.345505   3.073415   0.194731      77.575844   \n",
      "6        43.887363   79.553123   2.885720   0.571595      10.345153   \n",
      "7        83.525757   33.829651   2.390798   1.198665      59.436680   \n",
      "8        52.363255   38.800316   2.507501   0.815129      87.804535   \n",
      "9       112.231964   91.779289   0.791848   0.511726      67.763260   \n",
      "10       85.433296   43.545998   2.442940   0.403881      14.301805   \n",
      "11       59.685112   32.346436   0.394287   1.871904      61.126465   \n",
      "12       45.842468   44.855854   2.586756   0.133765      65.450180   \n",
      "13       41.910019   61.385479   2.433011   0.342136      53.812798   \n",
      "14       68.512123   41.089115   2.929152   0.394759      40.707344   \n",
      "15       60.037949   46.892841   2.822165   0.695714      67.956261   \n",
      "16      183.716049   99.874199   0.845935   0.127513      37.453312   \n",
      "17       37.472950  103.167694   3.048842   0.065983      52.444294   \n",
      "18       64.074875   61.201431   2.313776   0.047153      64.748001   \n",
      "19       39.705212  118.477760   1.895090   0.152143      38.303364   \n",
      "20       66.564392   52.395973   2.291993   0.651902      69.186958   \n",
      "21       42.717392   73.439949   2.909179   0.371797      27.964214   \n",
      "22      111.948471   31.588196   0.550704   1.279704      15.428982   \n",
      "23       42.894886   33.466766   2.723375   1.397529      63.653797   \n",
      "24       38.152058   69.230675   1.934261   0.947966      29.590567   \n",
      "25       58.872272   35.927044   3.050663   1.391441      27.703487   \n",
      "26       55.135334   42.056988   3.083700   0.467941      37.538261   \n",
      "27       59.593258   42.738976   2.243050   0.679458      35.353893   \n",
      "28       68.585709   32.132397   1.931376   1.586874      45.891541   \n",
      "29       68.012062   33.304417   3.019222   0.545657      45.987858   \n",
      "...            ...         ...        ...        ...            ...   \n",
      "286750   36.404655   39.393936   2.114909   0.542973      58.629570   \n",
      "286751   54.932003   62.087330   2.892431   0.455136      19.774593   \n",
      "286752   76.574585   35.112286   2.315100   0.966344      19.963625   \n",
      "286753   63.747215   41.522427   0.017225   2.057209      73.472801   \n",
      "286754   62.328136   32.152637   3.079845   0.233410      54.318409   \n",
      "286755   63.176506   47.492588   2.841083   0.116565       3.094351   \n",
      "286756   49.207100   39.295990   2.921764   1.107036      70.087074   \n",
      "286757   56.266815   48.566048   3.064885   0.700006      21.688284   \n",
      "286758   82.038956   31.424000   2.187654   0.209511      23.531727   \n",
      "286759   93.285797   30.700220   2.672478   0.098620      13.230593   \n",
      "286760   61.723351   52.002312   2.194712   0.919393      27.566420   \n",
      "286761   51.223457   32.351875   2.729562   1.098436      31.044214   \n",
      "286762   60.338444   39.729240   3.111801   0.755277      49.552475   \n",
      "286763   57.776478   51.501247   3.135568   0.684437      17.660622   \n",
      "286764   46.647972   33.471050   2.539056   1.153232      17.900496   \n",
      "286765   58.122395   49.478043   2.715310   0.188507       7.997524   \n",
      "286766   63.164799   56.731018   3.050847   0.250606      26.396564   \n",
      "286767   66.887512   33.385677   1.984157   0.190149      88.573082   \n",
      "286768   63.743767   45.978409   3.032828   0.422755      43.815575   \n",
      "286769   60.703255   35.580639   2.110248   0.354436      53.153847   \n",
      "286770   49.573128   40.950363   2.967284   0.738776      10.096291   \n",
      "286771   43.997334   68.997505   1.332102   1.282940      24.159117   \n",
      "286772   54.494629   54.486900   3.019532   0.120243      27.470804   \n",
      "286773   69.556808   48.711018   3.135847   0.629670      56.583775   \n",
      "286774   94.025864   34.645996   2.509235   0.740510      30.511135   \n",
      "286775   37.423294   58.755768   2.971206   1.081872      31.817501   \n",
      "286776   79.083260   41.247593   1.930034   0.069823      64.175323   \n",
      "286777   54.235348   45.601059   3.093314   0.186819      17.757027   \n",
      "286778   81.978188   30.895788   2.572117   0.587664      18.528412   \n",
      "286779   47.770817   32.713890   2.937253   1.407487      75.617790   \n",
      "\n",
      "        m_t_collinearMass    MTTauMET  dPhiTauMET    weight  \n",
      "0              123.078667   33.983849    2.215994  0.006852  \n",
      "1              127.282791   62.910786    1.519458  0.009087  \n",
      "2              156.473007   78.297775    2.943645  0.008974  \n",
      "3              119.040329  120.732567    1.984285  0.007126  \n",
      "4              124.780327    3.585225    0.101456  0.008575  \n",
      "5              157.197220   74.851082    1.030425  0.000269  \n",
      "6              128.147385   54.118843    2.464155  0.008483  \n",
      "7              180.594818   33.375431    0.761630  0.008738  \n",
      "8              167.928329   12.038505    0.203490  0.008614  \n",
      "9              120.499702  152.059036    2.603828  0.007863  \n",
      "10             135.165955   49.902340    3.093282  0.007448  \n",
      "11             160.750229   15.005486    0.337966  0.005595  \n",
      "12             137.092148    2.328617    0.038585  0.008851  \n",
      "13             131.400894   15.340705    0.267693  0.000959  \n",
      "14             139.463516   75.106316    2.327111  0.008951  \n",
      "15             168.256073  109.616661    2.657822  0.008584  \n",
      "16             129.596649   31.296608    0.517373  0.008770  \n",
      "17             150.315689  143.763855    2.713494  0.000271  \n",
      "18             121.874962   94.293266    1.692793  0.009015  \n",
      "19             117.814697   77.553604    1.226719  0.008964  \n",
      "20             128.260895   92.985687    1.764357  0.008126  \n",
      "21             132.635422   90.134583    2.931232  0.008987  \n",
      "22             104.234695   42.485920    2.589046  0.005196  \n",
      "23             111.276596   71.956024    1.787737  0.008846  \n",
      "24             112.792305   33.679680    0.762363  0.006862  \n",
      "25             148.510040   60.904545    2.609646  0.000934  \n",
      "26             134.179138   13.702112    0.345814  0.005198  \n",
      "27             116.054565   38.597187    1.039029  0.008689  \n",
      "28             175.237137   76.461151    2.953319  0.008850  \n",
      "29             146.952896   18.870092    0.485255  0.005619  \n",
      "...                   ...         ...         ...       ...  \n",
      "286750         102.413261   30.360468    0.642732  0.117758  \n",
      "286751         134.010605   19.536991    0.564780  0.078179  \n",
      "286752         124.393578   24.842638    0.976053  0.134886  \n",
      "286753         206.354950  109.421211    2.866101  0.142903  \n",
      "286754         144.699387   15.097919    0.363265  0.078087  \n",
      "286755         111.444389   23.269922    2.569421  0.107314  \n",
      "286756         168.215897  104.568672    2.968852  0.084680  \n",
      "286757         133.257553   64.751595    2.997700  0.119739  \n",
      "286758         120.048096   54.341476    3.060395  0.069835  \n",
      "286759         120.282341   37.914265    2.448873  0.053417  \n",
      "286760         141.246277   75.552238    3.006930  0.038737  \n",
      "286761         114.634308   29.807459    0.979211  0.087400  \n",
      "286762         136.637405   41.857922    0.981308  0.018413  \n",
      "286763         133.714859   60.152054    2.993484  0.117139  \n",
      "286764         110.855637    2.054779    0.075731  0.074401  \n",
      "286765         113.507973    0.479693    0.009464  0.113355  \n",
      "286766         133.483139   39.257412    1.063574  0.089760  \n",
      "286767         139.014709   36.828270    0.690005  0.080173  \n",
      "286768         130.080521   75.206367    1.986042  0.080161  \n",
      "286769         130.151703    4.765022    0.105137  0.112213  \n",
      "286770          98.614609   31.802029    1.795452  0.052507  \n",
      "286771         109.656319   42.432331    1.092870  0.002815  \n",
      "286772         124.220520   34.891190    0.935512  0.118882  \n",
      "286773         152.182617   90.126976    2.064093  0.026725  \n",
      "286774         136.049622   54.507412    1.987985  0.116699  \n",
      "286775         130.490128   21.882696    0.511654  0.071584  \n",
      "286776         124.264603   52.452442    1.069645  0.086163  \n",
      "286777         114.476212   17.726236    0.633427  0.114131  \n",
      "286778         105.964027   36.483509    1.733721  0.114536  \n",
      "286779         170.861298   27.019829    0.550150  0.091769  \n",
      "\n",
      "[286780 rows x 9 columns]\n"
     ]
    }
   ],
   "source": [
    "import ROOT\n",
    "import pandas\n",
    "import numpy as np\n",
    "np.random.seed(1234)\n",
    "\n",
    "filename = \"BDT.root\"\n",
    "# Specify variables which shall be used as input for the neural network\n",
    "variables = [\"mPt\", \"tPt\", \"dPhiMuTau\", \"dEtaMuTau\", \"type1_pfMetEt\", \"m_t_collinearMass\", \"MTTauMET\", \"dPhiTauMET\"]\n",
    "\n",
    "def load_tree(filename, treename):\n",
    "    f = ROOT.TFile(filename)\n",
    "    t = f.Get(treename)\n",
    "    data, labels = t.AsMatrix(columns=variables + [\"weight\"], return_labels=True)\n",
    "    return pandas.DataFrame(data=data, columns=labels)\n",
    "\n",
    "# Load data from ROOT TTrees to panda dataframes\n",
    "signal = load_tree(filename, \"TreeS\")\n",
    "background = load_tree(filename, \"TreeB\")\n",
    "\n",
    "# Show the content of a dataframe\n",
    "#print(background)\n",
    "print(signal)"
   ]
  },
  {
   "cell_type": "code",
   "execution_count": 2,
   "metadata": {},
   "outputs": [],
   "source": [
    "# Sum of all event weights is needed for reweighting to equal importance\n",
    "sum_weights = np.sum(signal[\"weight\"]) + np.sum(background[\"weight\"])\n",
    "\n",
    "# Function to reweight the weights to equal importance\n",
    "def reweight(df):\n",
    "    df[\"weight_reweighted\"] = df[\"weight\"] * sum_weights / np.sum(df[\"weight\"])\n",
    "\n",
    "# Run the reweighting on the pandas dataframe\n",
    "reweight(signal)\n",
    "reweight(background)"
   ]
  },
  {
   "cell_type": "code",
   "execution_count": 3,
   "metadata": {
    "scrolled": false
   },
   "outputs": [],
   "source": [
    "import matplotlib.pyplot as plt\n",
    "\n",
    "# Function to plot a variable\n",
    "def plot(variable):\n",
    "    plt.figure()\n",
    "    range_ = np.percentile(signal[variable], (5, 95))\n",
    "    plt.hist(\n",
    "        [signal[variable], background[variable]],\n",
    "        range=range_,\n",
    "        bins=30,\n",
    "        weights=[\n",
    "            signal[\"weight_reweighted\"],\n",
    "            background[\"weight_reweighted\"]],\n",
    "        histtype=\"step\",\n",
    "        lw=2,\n",
    "        label=(\"signal\", \"background\"))\n",
    "    plt.xlabel(variable)\n",
    "    plt.legend()\n",
    "\n",
    "# Loop over variables and plot each one\n",
    "for var in variables:\n",
    "    plot(var)"
   ]
  },
  {
   "cell_type": "code",
   "execution_count": 4,
   "metadata": {
    "scrolled": true
   },
   "outputs": [
    {
     "name": "stdout",
     "output_type": "stream",
     "text": [
      "Variables:\n",
      "['mPt', 'tPt', 'dPhiMuTau', 'dEtaMuTau', 'type1_pfMetEt', 'm_t_collinearMass', 'MTTauMET', 'dPhiTauMET']\n",
      "\n",
      "Inputs:\n",
      "[[108.26584625  35.69594955   2.31003737 ... 123.07866669  33.98384857\n",
      "    2.21599388]\n",
      " [ 63.74033356  52.75604248   2.09898591 ... 127.28279114  62.91078568\n",
      "    1.5194577 ]\n",
      " [ 45.08161545  50.17819977   2.7430234  ... 156.4730072   78.29777527\n",
      "    2.94364524]\n",
      " ...\n",
      " [ 30.80571938  36.53229141   2.70508289 ... 126.12409973  86.92422485\n",
      "    3.04223609]\n",
      " [ 34.94863129  35.24382782   1.14014328 ...  41.96055603  22.57505989\n",
      "    1.65852356]\n",
      " [ 32.78911209  32.93112946   3.02074647 ...  76.67446136  54.59089661\n",
      "    1.91577983]]\n",
      "\n",
      "Weights:\n",
      "[0.01722804 0.02284906 0.0225635  ... 3.84246536 3.03408284 3.84246536]\n",
      "\n",
      "Targets:\n",
      "[[1. 0.]\n",
      " [1. 0.]\n",
      " [1. 0.]\n",
      " ...\n",
      " [0. 1.]\n",
      " [0. 1.]\n",
      " [0. 1.]]\n",
      "\n"
     ]
    },
    {
     "name": "stderr",
     "output_type": "stream",
     "text": [
      "/cvmfs/sft.cern.ch/lcg/views/LCG_94/x86_64-centos7-gcc8-opt/lib/python2.7/site-packages/ipykernel_launcher.py:3: FutureWarning: Method .as_matrix will be removed in a future version. Use .values instead.\n",
      "  This is separate from the ipykernel package so we can avoid doing imports until\n",
      "/cvmfs/sft.cern.ch/lcg/views/LCG_94/x86_64-centos7-gcc8-opt/lib/python2.7/site-packages/ipykernel_launcher.py:4: FutureWarning: Method .as_matrix will be removed in a future version. Use .values instead.\n",
      "  after removing the cwd from sys.path.\n"
     ]
    }
   ],
   "source": [
    "# Function to extract numpy array from pandas dataframe\n",
    "def load_data(df, index):\n",
    "    x = df.as_matrix(columns=variables)\n",
    "    w = df.as_matrix(columns=[\"weight_reweighted\"])\n",
    "    y = np.zeros((x.shape[0], 2))\n",
    "    y[:, index] = 1\n",
    "    return x, w, y\n",
    "\n",
    "# Load data from dataframe to numpy arrays\n",
    "signal_x, signal_w, signal_y = load_data(signal, 0)\n",
    "background_x, background_w, background_y = load_data(background, 1)\n",
    "\n",
    "# Stack numpy arrays of different processes to single array\n",
    "x = np.vstack([signal_x, background_x])\n",
    "w = np.vstack([signal_w, background_w]).squeeze()\n",
    "y = np.vstack([signal_y, background_y])\n",
    "\n",
    "# Print what we are doing\n",
    "print(\"Variables:\\n{}\\n\".format(variables))\n",
    "print(\"Inputs:\\n{}\\n\".format(x))\n",
    "print(\"Weights:\\n{}\\n\".format(w))\n",
    "print(\"Targets:\\n{}\\n\".format(y))"
   ]
  },
  {
   "cell_type": "code",
   "execution_count": 5,
   "metadata": {},
   "outputs": [
    {
     "name": "stderr",
     "output_type": "stream",
     "text": [
      "Using Theano backend.\n"
     ]
    },
    {
     "name": "stdout",
     "output_type": "stream",
     "text": [
      "_________________________________________________________________\n",
      "Layer (type)                 Output Shape              Param #   \n",
      "=================================================================\n",
      "dense_1 (Dense)              (None, 100)               900       \n",
      "_________________________________________________________________\n",
      "dropout_1 (Dropout)          (None, 100)               0         \n",
      "_________________________________________________________________\n",
      "dense_2 (Dense)              (None, 2)                 202       \n",
      "=================================================================\n",
      "Total params: 1,102\n",
      "Trainable params: 1,102\n",
      "Non-trainable params: 0\n",
      "_________________________________________________________________\n"
     ]
    }
   ],
   "source": [
    "from keras.models import Sequential\n",
    "from keras.layers import Dense, Dropout\n",
    "\n",
    "# Stack layers defining neural network architecture\n",
    "model = Sequential()\n",
    "model.add(Dense(100, activation=\"relu\", input_dim=len(variables)))\n",
    "model.add(Dropout(0.2))\n",
    "model.add(Dense(2, activation=\"softmax\"))\n",
    "\n",
    "# Specify loss function and optimizer algorithm\n",
    "model.compile(loss=\"categorical_crossentropy\", optimizer=\"adam\", metrics=['accuracy'])\n",
    "\n",
    "# Print architecture\n",
    "model.summary()"
   ]
  },
  {
   "cell_type": "code",
   "execution_count": 6,
   "metadata": {},
   "outputs": [
    {
     "name": "stdout",
     "output_type": "stream",
     "text": [
      "Train on 147681 samples, validate on 147681 samples\n",
      "Epoch 1/30\n",
      "147681/147681 [==============================] - 2s 17us/step - loss: 0.7723 - acc: 0.6929 - val_loss: 0.3078 - val_acc: 0.8873\n",
      "Epoch 2/30\n",
      "147681/147681 [==============================] - 2s 16us/step - loss: 0.3030 - acc: 0.7241 - val_loss: 0.1475 - val_acc: 0.8263\n",
      "Epoch 3/30\n",
      "147681/147681 [==============================] - 2s 16us/step - loss: 0.1824 - acc: 0.7234 - val_loss: 0.1528 - val_acc: 0.5485\n",
      "Epoch 4/30\n",
      "147681/147681 [==============================] - 2s 16us/step - loss: 0.1442 - acc: 0.7757 - val_loss: 0.1323 - val_acc: 0.8327\n",
      "Epoch 5/30\n",
      "147681/147681 [==============================] - 2s 16us/step - loss: 0.1400 - acc: 0.7803 - val_loss: 0.1309 - val_acc: 0.7715\n",
      "Epoch 6/30\n",
      "147681/147681 [==============================] - 2s 16us/step - loss: 0.1357 - acc: 0.7857 - val_loss: 0.1294 - val_acc: 0.8489\n",
      "Epoch 7/30\n",
      "147681/147681 [==============================] - 2s 15us/step - loss: 0.1332 - acc: 0.7987 - val_loss: 0.1308 - val_acc: 0.8220\n",
      "Epoch 8/30\n",
      "147681/147681 [==============================] - 2s 15us/step - loss: 0.1297 - acc: 0.8105 - val_loss: 0.1272 - val_acc: 0.8718\n",
      "Epoch 9/30\n",
      "147681/147681 [==============================] - 2s 15us/step - loss: 0.1276 - acc: 0.8277 - val_loss: 0.1240 - val_acc: 0.8336\n",
      "Epoch 10/30\n",
      "147681/147681 [==============================] - 2s 15us/step - loss: 0.1220 - acc: 0.8318 - val_loss: 0.1231 - val_acc: 0.8793\n",
      "Epoch 11/30\n",
      "147681/147681 [==============================] - 2s 16us/step - loss: 0.1212 - acc: 0.8381 - val_loss: 0.1237 - val_acc: 0.7333\n",
      "Epoch 12/30\n",
      "147681/147681 [==============================] - 2s 16us/step - loss: 0.1168 - acc: 0.8544 - val_loss: 0.1177 - val_acc: 0.8768\n",
      "Epoch 13/30\n",
      "147681/147681 [==============================] - 2s 16us/step - loss: 0.1163 - acc: 0.8505 - val_loss: 0.1185 - val_acc: 0.8937\n",
      "Epoch 14/30\n",
      "147681/147681 [==============================] - 2s 16us/step - loss: 0.1163 - acc: 0.8552 - val_loss: 0.1150 - val_acc: 0.8517\n",
      "Epoch 15/30\n",
      "147681/147681 [==============================] - 2s 15us/step - loss: 0.1159 - acc: 0.8526 - val_loss: 0.1145 - val_acc: 0.8810\n",
      "Epoch 16/30\n",
      "147681/147681 [==============================] - 2s 15us/step - loss: 0.1150 - acc: 0.8579 - val_loss: 0.1131 - val_acc: 0.8685\n",
      "Epoch 17/30\n",
      "147681/147681 [==============================] - 2s 15us/step - loss: 0.1144 - acc: 0.8623 - val_loss: 0.1146 - val_acc: 0.8926\n",
      "Epoch 18/30\n",
      "147681/147681 [==============================] - 2s 15us/step - loss: 0.1147 - acc: 0.8593 - val_loss: 0.1139 - val_acc: 0.8944\n",
      "Epoch 19/30\n",
      "147681/147681 [==============================] - 2s 14us/step - loss: 0.1153 - acc: 0.8578 - val_loss: 0.1127 - val_acc: 0.8598\n",
      "Epoch 20/30\n",
      "147681/147681 [==============================] - 2s 15us/step - loss: 0.1112 - acc: 0.8648 - val_loss: 0.1118 - val_acc: 0.8913\n",
      "Epoch 21/30\n",
      "147681/147681 [==============================] - 2s 16us/step - loss: 0.1135 - acc: 0.8579 - val_loss: 0.1122 - val_acc: 0.8623\n",
      "Epoch 22/30\n",
      "147681/147681 [==============================] - 2s 16us/step - loss: 0.1145 - acc: 0.8633 - val_loss: 0.1116 - val_acc: 0.8331\n",
      "Epoch 23/30\n",
      "147681/147681 [==============================] - 2s 16us/step - loss: 0.1137 - acc: 0.8504 - val_loss: 0.1148 - val_acc: 0.8783\n",
      "Epoch 24/30\n",
      "147681/147681 [==============================] - 2s 16us/step - loss: 0.1123 - acc: 0.8584 - val_loss: 0.1076 - val_acc: 0.8720\n",
      "Epoch 25/30\n",
      "147681/147681 [==============================] - 2s 16us/step - loss: 0.1112 - acc: 0.8580 - val_loss: 0.1108 - val_acc: 0.8690\n",
      "Epoch 26/30\n",
      "147681/147681 [==============================] - 2s 16us/step - loss: 0.1105 - acc: 0.8672 - val_loss: 0.1129 - val_acc: 0.8631\n",
      "Epoch 27/30\n",
      "147681/147681 [==============================] - 2s 16us/step - loss: 0.1112 - acc: 0.8634 - val_loss: 0.1071 - val_acc: 0.8601\n",
      "Epoch 28/30\n",
      "147681/147681 [==============================] - 2s 17us/step - loss: 0.1107 - acc: 0.8645 - val_loss: 0.1069 - val_acc: 0.8676\n",
      "Epoch 29/30\n",
      "147681/147681 [==============================] - 2s 17us/step - loss: 0.1091 - acc: 0.8621 - val_loss: 0.1085 - val_acc: 0.8714\n",
      "Epoch 30/30\n",
      "147681/147681 [==============================] - 2s 16us/step - loss: 0.1092 - acc: 0.8699 - val_loss: 0.1071 - val_acc: 0.9007\n"
     ]
    }
   ],
   "source": [
    "from sklearn.model_selection import train_test_split\n",
    "\n",
    "# Split dataset in training and validation part used for the gradient steps and monitoring of the training\n",
    "x_train, x_val, y_train, y_val, w_train, w_val = train_test_split(x, y, w, test_size=0.5, random_state=1234)\n",
    "\n",
    "# Train the neural network\n",
    "history = model.fit(\n",
    "                x_train, y_train,\n",
    "                sample_weight=w_train,\n",
    "                batch_size=1000,\n",
    "                epochs=30,\n",
    "                validation_data=(x_val, y_val, w_val))"
   ]
  },
  {
   "cell_type": "code",
   "execution_count": 7,
   "metadata": {},
   "outputs": [
    {
     "data": {
      "image/png": "[encoded data removed]",
      "text/plain": [
       "<Figure size 432x288 with 1 Axes>"
      ]
     },
     "metadata": {},
     "output_type": "display_data"
    }
   ],
   "source": [
    "# Extract number of run epochs from the training history\n",
    "epochs = range(1, len(history.history[\"loss\"])+1)\n",
    "\n",
    "# Extract loss on training and validation dataset and plot them together\n",
    "plt.plot(epochs, history.history[\"loss\"], \"o-\", label=\"Training\")\n",
    "plt.plot(epochs, history.history[\"val_loss\"], \"o-\", label=\"Validation\")\n",
    "plt.xlabel(\"Epochs\"), plt.ylabel(\"Loss\")\n",
    "plt.yscale(\"log\")\n",
    "plt.legend();"
   ]
  },
  {
   "cell_type": "code",
   "execution_count": 8,
   "metadata": {},
   "outputs": [
    {
     "data": {
      "image/png": "[encoded data removed]",
      "text/plain": [
       "<Figure size 432x288 with 1 Axes>"
      ]
     },
     "metadata": {},
     "output_type": "display_data"
    }
   ],
   "source": [
    "# Extract number of run epochs from the training history\n",
    "epochs = range(1, len(history.history[\"loss\"])+1)\n",
    "\n",
    "# Extract accuracy on training and validation dataset and plot them together\n",
    "plt.plot(epochs, history.history[\"acc\"], \"o-\", label=\"Training\")\n",
    "plt.plot(epochs, history.history[\"val_acc\"], \"o-\", label=\"Validation\")\n",
    "plt.xlabel(\"Epochs\"), plt.ylabel(\"Accuracy\")\n",
    "plt.legend();"
   ]
  },
  {
   "cell_type": "code",
   "execution_count": 9,
   "metadata": {},
   "outputs": [
    {
     "name": "stdout",
     "output_type": "stream",
     "text": [
      "Predictions of signal events:\n",
      "[[0.87355804 0.12644193]\n",
      " [0.7603131  0.23968692]\n",
      " [0.42337453 0.57662547]\n",
      " ...\n",
      " [0.874929   0.12507099]\n",
      " [0.8730169  0.1269831 ]\n",
      " [0.681422   0.31857798]]\n",
      "\n",
      "Mean probability per process:\n",
      "[0.76545906 0.23454963]\n",
      "\n"
     ]
    }
   ],
   "source": [
    "# Get neural network prediction for each MC sample\n",
    "signal_predictions = model.predict(signal_x)\n",
    "background_predictions = model.predict(background_x)\n",
    "\n",
    "# Print predictions showing probability for each process\n",
    "print(\"Predictions of signal events:\\n{}\\n\".format(\n",
    "    signal_predictions))\n",
    "print(\"Mean probability per process:\\n{}\\n\".format(\n",
    "    np.mean(signal_predictions, axis=0)))"
   ]
  },
  {
   "cell_type": "code",
   "execution_count": 10,
   "metadata": {},
   "outputs": [],
   "source": [
    "# These are our processes\n",
    "processes = [\"signal\", \"background\"]\n",
    "\n",
    "# Structure categories\n",
    "categories = {}\n",
    "for category in processes: # Make dedicated category for each process\n",
    "    categories[category] = {}\n",
    "    for process in processes: # Store NN scores and event weights of each process contributing to this category\n",
    "        categories[category][process] = {\"scores\": [], \"weights\": []}\n",
    "\n",
    "predictions = {\n",
    "    \"signal\": signal_predictions,\n",
    "    \"background\": background_predictions\n",
    "}\n",
    "weights = {\n",
    "    \"signal\": signal[\"weight\"],\n",
    "    \"background\": background[\"weight\"]\n",
    "}\n",
    "\n",
    "# Loop over processes\n",
    "for i_process, process in enumerate(processes):\n",
    "    # Loop over events of this process\n",
    "    n_events = predictions[process].shape[0]\n",
    "    for i_event in range(n_events):\n",
    "        # Find category for this event and retrieve NN score\n",
    "        p = predictions[process][i_event] # e.g., [0.3, 0.5, 0.2]\n",
    "        max_index = np.argmax(p)          #             1\n",
    "        max_score = p[max_index]          #             0.5\n",
    "        category = processes[max_index]   #             \"ztt\"\n",
    "        \n",
    "        # Store NN score and event weight for this event in respective category\n",
    "        categories[category][process][\"scores\"].append(\n",
    "            max_score\n",
    "        )\n",
    "        categories[category][process][\"weights\"].append(\n",
    "            weights[process][i_event]\n",
    "        )"
   ]
  },
  {
   "cell_type": "code",
   "execution_count": 11,
   "metadata": {},
   "outputs": [
    {
     "data": {
      "image/png": "[encoded data removed]",
      "text/plain": [
       "<Figure size 432x288 with 1 Axes>"
      ]
     },
     "metadata": {},
     "output_type": "display_data"
    },
    {
     "data": {
      "image/png": "[encoded data removed]",
      "text/plain": [
       "<Figure size 432x288 with 1 Axes>"
      ]
     },
     "metadata": {},
     "output_type": "display_data"
    }
   ],
   "source": [
    "def plot(label, logscale=False):\n",
    "    category = categories[label]\n",
    "    plt.figure()\n",
    "    bins = np.linspace(0.33, 1.0, 10)\n",
    "    for process in category:\n",
    "        plt.hist(\n",
    "            np.array(category[process][\"scores\"]),\n",
    "            weights=np.array(category[process][\"weights\"]),\n",
    "            #bins=bins,\n",
    "            histtype=\"step\",\n",
    "            lw=2,\n",
    "            label=process)\n",
    "    plt.title(label)\n",
    "    plt.xlabel(\"NN score\")\n",
    "    #plt.xlim((bins[0], bins[-1]))\n",
    "    if logscale:\n",
    "        plt.yscale(\"log\")\n",
    "    plt.legend()\n",
    "    \n",
    "# Plot categories\n",
    "plot(\"signal\")#, logscale=True)\n",
    "plot(\"background\", logscale=True)"
   ]
  },
  {
   "cell_type": "code",
   "execution_count": 20,
   "metadata": {
    "collapsed": true
   },
   "outputs": [],
   "source": [
    "#model.save('NN.h5')\n",
    "model_json = model.to_json()\n",
    "with open(\"model.json\", \"w\") as json_file:\n",
    "    json_file.write(model_json)\n",
    "\n",
    "model.save_weights('NN_weights.h5')"
   ]
  },
  {
   "cell_type": "code",
   "execution_count": 8,
   "metadata": {},
   "outputs": [
    {
     "name": "stdout",
     "output_type": "stream",
     "text": [
      "[[0.8689614  0.13103862]]\n"
     ]
    }
   ],
   "source": [
    "from keras.models import load_model\n",
    "import numpy as np\n",
    "model = load_model('NN.h5')\n",
    "#pred = [[38.902351, 30.035307, 2.589421, 0.638355, 20.325911, 89.910355, 0.622604, 0.019863]]\n",
    "pred = [[85.433296, 43.545998, 2.442940, 0.403881, 14.301805, 135.165955, 49.902340, 3.093282]]\n",
    "prediction = model.predict(np.array(pred)) \n",
    "print prediction"
   ]
  },
  {
   "cell_type": "code",
   "execution_count": null,
   "metadata": {
    "collapsed": true
   },
   "outputs": [],
   "source": []
  }
 ],
 "metadata": {
  "kernelspec": {
   "display_name": "Python 2",
   "language": "python",
   "name": "python2"
  },
  "language_info": {
   "codemirror_mode": {
    "name": "ipython",
    "version": 2
   },
   "file_extension": ".py",
   "mimetype": "text/x-python",
   "name": "python",
   "nbconvert_exporter": "python",
   "pygments_lexer": "ipython2",
   "version": "2.7.15"
  }
 },
 "nbformat": 4,
 "nbformat_minor": 2
}
