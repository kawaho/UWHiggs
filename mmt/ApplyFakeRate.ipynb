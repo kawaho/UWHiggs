{
 "cells": [
  {
   "cell_type": "code",
   "execution_count": 2,
   "metadata": {
    "collapsed": false
   },
   "outputs": [
    {
     "name": "stdout",
     "output_type": "stream",
     "text": [
      "Welcome to JupyROOT 6.10/09\n"
     ]
    }
   ],
   "source": [
    "import os\n",
    "from sys import argv, stdout, stderr\n",
    "from ROOT import TFile, gROOT\n",
    "import sys\n",
    "gROOT.SetStyle(\"Default\")\n",
    "gROOT.SetBatch(True)"
   ]
  },
  {
   "cell_type": "code",
   "execution_count": 32,
   "metadata": {
    "collapsed": false
   },
   "outputs": [
    {
     "name": "stdout",
     "output_type": "stream",
     "text": [
      "0.31359832636\n",
      "0.456872904602\n"
     ]
    }
   ],
   "source": [
    "file = TFile('NewNewRoot/frEBDM10.root')\n",
    "h = file.Get('fakerate')\n",
    "pt = 45\n",
    "if pt < 30:\n",
    "    bin = 1\n",
    "elif pt < 60:\n",
    "    bin = 2\n",
    "elif pt < 90:\n",
    "    bin = 3\n",
    "elif pt < 120:\n",
    "    bin = 4\n",
    "else:\n",
    "    bin = 5\n",
    "f = h.GetEfficiency(bin)\n",
    "print f\n",
    "print f/(1-f)"
   ]
  },
  {
   "cell_type": "code",
   "execution_count": null,
   "metadata": {
    "collapsed": true
   },
   "outputs": [],
   "source": []
  }
 ],
 "metadata": {
  "kernelspec": {
   "display_name": "Python 2",
   "language": "python",
   "name": "python2"
  },
  "language_info": {
   "codemirror_mode": {
    "name": "ipython",
    "version": 2
   },
   "file_extension": ".py",
   "mimetype": "text/x-python",
   "name": "python",
   "nbconvert_exporter": "python",
   "pygments_lexer": "ipython2",
   "version": "2.7.11"
  }
 },
 "nbformat": 4,
 "nbformat_minor": 2
}
