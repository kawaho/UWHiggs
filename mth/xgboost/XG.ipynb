{
 "cells": [
  {
   "cell_type": "code",
   "execution_count": 2,
   "metadata": {
    "collapsed": false
   },
   "outputs": [],
   "source": [
    "import os\n",
    "from sys import argv, stdout, stderr\n",
    "import ROOT as r\n",
    "import sys\n",
    "r.gROOT.SetStyle(\"Plain\")\n",
    "r.gROOT.SetBatch(True)"
   ]
  },
  {
   "cell_type": "code",
   "execution_count": 12,
   "metadata": {
    "collapsed": false
   },
   "outputs": [],
   "source": [
    "text_file = open(\"trainbg.txt\", \"w\")\n",
    "text_file1 = open(\"testbg.txt\", \"w\")\n",
    "f = r.TFile('BackgroundXG.root')\n",
    "t = f.Get('TreeB')\n",
    "i = 0\n",
    "for e in t:\n",
    "    if i < 8500:\n",
    "        text_file.write(\"0 1:%f 2:%f 3:%f 4:%f 5:%f 6:%f 7:%f 8:%f\\n\" % (e.mPt, e.tPt, e.dPhiMuTau, e.dEtaMuTau, e.type1_pfMetEt, e.m_t_collinearMass, e.MTTauMET, e.dPhiTauMET))\n",
    "    else:\n",
    "        text_file1.write(\"0 1:%f 2:%f 3:%f 4:%f 5:%f 6:%f 7:%f 8:%f\\n\" % (e.mPt, e.tPt, e.dPhiMuTau, e.dEtaMuTau, e.type1_pfMetEt, e.m_t_collinearMass, e.MTTauMET, e.dPhiTauMET))\n",
    "    i += 1\n",
    "text_file.close()\n",
    "text_file1.close()"
   ]
  },
  {
   "cell_type": "code",
   "execution_count": 20,
   "metadata": {
    "collapsed": true
   },
   "outputs": [],
   "source": [
    "text_file = open(\"trainbg.txt.weight\", \"w\")\n",
    "f = r.TFile('BackgroundXG.root')\n",
    "t = f.Get('TreeB')\n",
    "i = 0\n",
    "for e in t:\n",
    "    if i < 8500:\n",
    "        text_file.write(\"%f\\n\" % e.weight)\n",
    "    else:\n",
    "        break\n",
    "    i += 1\n",
    "text_file.close()"
   ]
  },
  {
   "cell_type": "code",
   "execution_count": 16,
   "metadata": {
    "collapsed": true
   },
   "outputs": [],
   "source": [
    "text_file = open(\"trains1.txt\", \"w\")\n",
    "text_file1 = open(\"tests1.txt\", \"w\")\n",
    "f = r.TFile('Signal1XG.root')\n",
    "t = f.Get('TreeS')\n",
    "i = 0\n",
    "for e in t:\n",
    "    if i < 7500:\n",
    "        text_file.write(\"1 1:%f 2:%f 3:%f 4:%f 5:%f 6:%f 7:%f 8:%f\\n\" % (e.mPt, e.tPt, e.dPhiMuTau, e.dEtaMuTau, e.type1_pfMetEt, e.m_t_collinearMass, e.MTTauMET, e.dPhiTauMET))\n",
    "    elif i < 8000:\n",
    "        text_file1.write(\"1 1:%f 2:%f 3:%f 4:%f 5:%f 6:%f 7:%f 8:%f\\n\" % (e.mPt, e.tPt, e.dPhiMuTau, e.dEtaMuTau, e.type1_pfMetEt, e.m_t_collinearMass, e.MTTauMET, e.dPhiTauMET))\n",
    "    else:\n",
    "        break\n",
    "    i += 1\n",
    "text_file.close()\n",
    "text_file1.close()"
   ]
  },
  {
   "cell_type": "code",
   "execution_count": 17,
   "metadata": {
    "collapsed": true
   },
   "outputs": [],
   "source": [
    "text_file = open(\"trains2.txt\", \"w\")\n",
    "text_file1 = open(\"tests2.txt\", \"w\")\n",
    "f = r.TFile('Signal2XG.root')\n",
    "t = f.Get('TreeS')\n",
    "i = 0\n",
    "for e in t:\n",
    "    if i < 2500:\n",
    "        text_file.write(\"1 1:%f 2:%f 3:%f 4:%f 5:%f 6:%f 7:%f 8:%f\\n\" % (e.mPt, e.tPt, e.dPhiMuTau, e.dEtaMuTau, e.type1_pfMetEt, e.m_t_collinearMass, e.MTTauMET, e.dPhiTauMET))\n",
    "    elif i < 2600:\n",
    "        text_file1.write(\"1 1:%f 2:%f 3:%f 4:%f 5:%f 6:%f 7:%f 8:%f\\n\" % (e.mPt, e.tPt, e.dPhiMuTau, e.dEtaMuTau, e.type1_pfMetEt, e.m_t_collinearMass, e.MTTauMET, e.dPhiTauMET))\n",
    "    else:\n",
    "        break\n",
    "    i += 1\n",
    "text_file.close()\n",
    "text_file1.close()"
   ]
  },
  {
   "cell_type": "code",
   "execution_count": 23,
   "metadata": {
    "collapsed": true
   },
   "outputs": [],
   "source": [
    "text_file = open(\"trains1.txt.weight\", \"w\")\n",
    "f = r.TFile('Signal1XG.root')\n",
    "t = f.Get('TreeS')\n",
    "i = 0\n",
    "for e in t:\n",
    "    if i < 7500:\n",
    "        text_file.write(\"%f\\n\" % e.weight)\n",
    "    else:\n",
    "        break\n",
    "    i += 1\n",
    "text_file.close()"
   ]
  },
  {
   "cell_type": "code",
   "execution_count": 24,
   "metadata": {
    "collapsed": true
   },
   "outputs": [],
   "source": [
    "text_file = open(\"trains2.txt.weight\", \"w\")\n",
    "f = r.TFile('Signal2XG.root')\n",
    "t = f.Get('TreeS')\n",
    "i = 0\n",
    "for e in t:\n",
    "    if i < 2500:\n",
    "        text_file.write(\"%f\\n\" % e.weight)\n",
    "    else:\n",
    "        break\n",
    "    i += 1\n",
    "text_file.close()"
   ]
  },
  {
   "cell_type": "code",
   "execution_count": null,
   "metadata": {
    "collapsed": true
   },
   "outputs": [],
   "source": []
  }
 ],
 "metadata": {
  "kernelspec": {
   "display_name": "Python 2",
   "language": "python",
   "name": "python2"
  },
  "language_info": {
   "codemirror_mode": {
    "name": "ipython",
    "version": 2
   },
   "file_extension": ".py",
   "mimetype": "text/x-python",
   "name": "python",
   "nbconvert_exporter": "python",
   "pygments_lexer": "ipython2",
   "version": "2.7.11"
  }
 },
 "nbformat": 4,
 "nbformat_minor": 2
}
