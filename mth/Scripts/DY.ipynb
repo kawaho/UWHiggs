{
 "cells": [
  {
   "cell_type": "code",
   "execution_count": 1,
   "metadata": {},
   "outputs": [
    {
     "name": "stdout",
     "output_type": "stream",
     "text": [
      "Welcome to JupyROOT 6.12/07\n"
     ]
    }
   ],
   "source": [
    "import os\n",
    "from sys import argv, stdout, stderr\n",
    "from ROOT import TFile, gROOT, TCanvas, TLegend\n",
    "import sys                                                                                                                                                                                                                                                  \n",
    "gROOT.SetStyle(\"Plain\")                                                                                                                                                                                                                                           \n",
    "gROOT.SetBatch(True)"
   ]
  },
  {
   "cell_type": "code",
   "execution_count": 18,
   "metadata": {},
   "outputs": [
    {
     "name": "stdout",
     "output_type": "stream",
     "text": [
      "21934.7168918\n"
     ]
    }
   ],
   "source": [
    "f1 = TFile('../results/DataApril3/AnalyzeMuTauSys/Drell.root')\n",
    "h0 = f1.Get('TightOS0Jet/m_t_CollinearMass')\n",
    "print h0.Integral()"
   ]
  },
  {
   "cell_type": "code",
   "execution_count": 19,
   "metadata": {},
   "outputs": [
    {
     "name": "stdout",
     "output_type": "stream",
     "text": [
      "21883.6563287\n"
     ]
    }
   ],
   "source": [
    "h0 = f1.Get('TightOS0Jet/recresoUp/m_t_CollinearMass')\n",
    "print h0.Integral()"
   ]
  },
  {
   "cell_type": "code",
   "execution_count": 20,
   "metadata": {},
   "outputs": [
    {
     "name": "stdout",
     "output_type": "stream",
     "text": [
      "21977.4885151\n"
     ]
    }
   ],
   "source": [
    "h0 = f1.Get('TightOS0Jet/recresoDown/m_t_CollinearMass')\n",
    "print h0.Integral()"
   ]
  },
  {
   "cell_type": "code",
   "execution_count": 21,
   "metadata": {},
   "outputs": [
    {
     "name": "stdout",
     "output_type": "stream",
     "text": [
      "21633.1172312\n"
     ]
    }
   ],
   "source": [
    "h0 = f1.Get('TightOS0Jet/puUp/m_t_CollinearMass')\n",
    "print h0.Integral()"
   ]
  },
  {
   "cell_type": "code",
   "execution_count": 22,
   "metadata": {},
   "outputs": [
    {
     "name": "stdout",
     "output_type": "stream",
     "text": [
      "22227.0832373\n"
     ]
    }
   ],
   "source": [
    "h0 = f1.Get('TightOS0Jet/puDown/m_t_CollinearMass')\n",
    "print h0.Integral()"
   ]
  },
  {
   "cell_type": "code",
   "execution_count": null,
   "metadata": {},
   "outputs": [],
   "source": []
  }
 ],
 "metadata": {
  "kernelspec": {
   "display_name": "Python 2",
   "language": "python",
   "name": "python2"
  },
  "language_info": {
   "codemirror_mode": {
    "name": "ipython",
    "version": 2
   },
   "file_extension": ".py",
   "mimetype": "text/x-python",
   "name": "python",
   "nbconvert_exporter": "python",
   "pygments_lexer": "ipython2",
   "version": "2.7.14+"
  }
 },
 "nbformat": 4,
 "nbformat_minor": 2
}
