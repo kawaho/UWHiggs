{
 "cells": [
  {
   "cell_type": "code",
   "execution_count": 1,
   "metadata": {},
   "outputs": [
    {
     "name": "stdout",
     "output_type": "stream",
     "text": [
      "Welcome to JupyROOT 6.12/07\n"
     ]
    }
   ],
   "source": [
    "import os\n",
    "from sys import argv, stdout, stderr\n",
    "from ROOT import TFile, gROOT, TCanvas, TLegend\n",
    "import sys                                                                                                                                                                                                                                                  \n",
    "gROOT.SetStyle(\"Plain\")                                                                                                                                                                                                                                           \n",
    "gROOT.SetBatch(True)"
   ]
  },
  {
   "cell_type": "code",
   "execution_count": 2,
   "metadata": {},
   "outputs": [],
   "source": [
    "def positivize(histogram):                                                                                                                                                                                                                                                      \n",
    "    output = histogram.Clone()                                                                                                                                                                                                                                                  \n",
    "    for i in range(output.GetSize()):                                                                                                                                                                                                                                           \n",
    "        if output.GetArray()[i] < 0:                                                                                                                                                                                                                                            \n",
    "            output.AddAt(0, i)                                                                                                                                                                                                                                                  \n",
    "    return output"
   ]
  },
  {
   "cell_type": "code",
   "execution_count": 3,
   "metadata": {},
   "outputs": [
    {
     "ename": "ReferenceError",
     "evalue": "attempt to access a null-pointer",
     "output_type": "error",
     "traceback": [
      "\u001b[0;31m\u001b[0m",
      "\u001b[0;31mReferenceError\u001b[0mTraceback (most recent call last)",
      "\u001b[0;32m<ipython-input-3-45cb0e1b0ab0>\u001b[0m in \u001b[0;36m<module>\u001b[0;34m()\u001b[0m\n\u001b[1;32m     28\u001b[0m \u001b[0mhmce\u001b[0m \u001b[0;34m=\u001b[0m \u001b[0mfmc\u001b[0m\u001b[0;34m.\u001b[0m\u001b[0mGet\u001b[0m\u001b[0;34m(\u001b[0m\u001b[0;34m'EleLooseOS/eEta'\u001b[0m\u001b[0;34m)\u001b[0m\u001b[0;34m\u001b[0m\u001b[0m\n\u001b[1;32m     29\u001b[0m \u001b[0mhmcet\u001b[0m \u001b[0;34m=\u001b[0m \u001b[0mfmc\u001b[0m\u001b[0;34m.\u001b[0m\u001b[0mGet\u001b[0m\u001b[0;34m(\u001b[0m\u001b[0;34m'EleLooseTauLooseOS/eEta'\u001b[0m\u001b[0;34m)\u001b[0m\u001b[0;34m\u001b[0m\u001b[0m\n\u001b[0;32m---> 30\u001b[0;31m \u001b[0mhmcf\u001b[0m \u001b[0;34m=\u001b[0m \u001b[0mhmct\u001b[0m\u001b[0;34m.\u001b[0m\u001b[0mClone\u001b[0m\u001b[0;34m(\u001b[0m\u001b[0;34m)\u001b[0m\u001b[0;34m\u001b[0m\u001b[0m\n\u001b[0m\u001b[1;32m     31\u001b[0m \u001b[0mhmcf\u001b[0m\u001b[0;34m.\u001b[0m\u001b[0mAdd\u001b[0m\u001b[0;34m(\u001b[0m\u001b[0mhmce\u001b[0m\u001b[0;34m)\u001b[0m\u001b[0;34m\u001b[0m\u001b[0m\n\u001b[1;32m     32\u001b[0m \u001b[0mhmcf\u001b[0m\u001b[0;34m.\u001b[0m\u001b[0mAdd\u001b[0m\u001b[0;34m(\u001b[0m\u001b[0mhmcet\u001b[0m\u001b[0;34m,\u001b[0m \u001b[0;34m-\u001b[0m\u001b[0;36m1\u001b[0m\u001b[0;34m)\u001b[0m\u001b[0;34m\u001b[0m\u001b[0m\n",
      "\u001b[0;31mReferenceError\u001b[0m: attempt to access a null-pointer"
     ]
    },
    {
     "name": "stderr",
     "output_type": "stream",
     "text": [
      "Error in <TFile::TFile>: file MC.root does not exist\n"
     ]
    }
   ],
   "source": [
    "canvas = TCanvas(\"canvas\",\"canvas\",800,800)\n",
    "fdata = TFile('QCD_Pt-20toInf_MuEnrichedPt15_TuneCP5_13TeV_pythia8_v14-v1.root')\n",
    "femb = TFile('embedded_EmbeddingRun2017B_ElTauFinalState.root')\n",
    "fmc = TFile('MC.root')\n",
    "\n",
    "hdata = fdata.Get('TightOS/eEta')\n",
    "\n",
    "hemb = femb.Get('TightOS/eEta')\n",
    "hembt = femb.Get('TauLooseOS/eEta')\n",
    "hembe = femb.Get('EleLooseOS/eEta')\n",
    "hembet = femb.Get('EleLooseTauLooseOS/eEta')\n",
    "hembf = hembt.Clone()\n",
    "hembf.Add(hembe)\n",
    "hembf.Add(hembet, -1)\n",
    "hembf = positivize(hembf)\n",
    "he = hemb.Clone()\n",
    "he.Add(hembf, -1)\n",
    "\n",
    "htau = fdata.Get('TauLooseOS/eEta')\n",
    "hele = fdata.Get('EleLooseOS/eEta')\n",
    "het = fdata.Get('EleLooseTauLooseOS/eEta')\n",
    "hf = htau.Clone()\n",
    "hf.Add(hele)\n",
    "hf.Add(het, -1)\n",
    "\n",
    "hmc = fmc.Get('TightOS/eEta')\n",
    "hmct = fmc.Get('TauLooseOS/eEta')\n",
    "hmce = fmc.Get('EleLooseOS/eEta')\n",
    "hmcet = fmc.Get('EleLooseTauLooseOS/eEta')\n",
    "hmcf = hmct.Clone()\n",
    "hmcf.Add(hmce)\n",
    "hmcf.Add(hmcet, -1)\n",
    "hmcf = positivize(hmcf)\n",
    "hm = hmc.Clone()\n",
    "hm.Add(hmcf, -1)\n",
    "\n",
    "hb = hm.Clone()\n",
    "hb.Add(hf)\n",
    "\n",
    "hed = hdata.Clone()\n",
    "hed.Add(hb, -1)\n",
    "hed.Divide(he)\n",
    "\n",
    "hdata.Delete()\n",
    "hmc.Delete()\n",
    "hmct.Delete()\n",
    "hmce.Delete()\n",
    "hmcet.Delete()\n",
    "hmcf.Delete()\n",
    "hm.Delete()\n",
    "hemb.Delete()\n",
    "hembt.Delete()\n",
    "hembe.Delete()\n",
    "hembet.Delete()\n",
    "hembf.Delete()\n",
    "he.Delete()\n",
    "htau.Delete()\n",
    "hele.Delete()\n",
    "het.Delete()\n",
    "hf.Delete()\n",
    "hb.Delete()\n",
    "\n",
    "f = TFile('Eta.root',\"RECREATE\")\n",
    "f.cd()\n",
    "hed.Draw()\n",
    "#print h.GetBinContent(19)\n",
    "#print h.GetXaxis().FindBin(-2.1)\n",
    "canvas.Draw()\n",
    "hed.Write()\n",
    "f.Close()"
   ]
  },
  {
   "cell_type": "code",
   "execution_count": null,
   "metadata": {},
   "outputs": [],
   "source": []
  }
 ],
 "metadata": {
  "kernelspec": {
   "display_name": "Python 2",
   "language": "python",
   "name": "python2"
  },
  "language_info": {
   "codemirror_mode": {
    "name": "ipython",
    "version": 2
   },
   "file_extension": ".py",
   "mimetype": "text/x-python",
   "name": "python",
   "nbconvert_exporter": "python",
   "pygments_lexer": "ipython2",
   "version": "2.7.14+"
  }
 },
 "nbformat": 4,
 "nbformat_minor": 2
}
