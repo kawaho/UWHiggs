{
 "cells": [
  {
   "cell_type": "code",
   "execution_count": 1,
   "metadata": {},
   "outputs": [
    {
     "name": "stdout",
     "output_type": "stream",
     "text": [
      "Welcome to JupyROOT 6.12/07\n"
     ]
    }
   ],
   "source": [
    "import os\n",
    "from sys import argv, stdout, stderr\n",
    "from ROOT import TFile, gROOT, TCanvas, TLegend\n",
    "import sys                                                                                                                                                                                                                                                  \n",
    "gROOT.SetStyle(\"Plain\")                                                                                                                                                                                                                                           \n",
    "gROOT.SetBatch(True)"
   ]
  },
  {
   "cell_type": "code",
   "execution_count": 2,
   "metadata": {},
   "outputs": [],
   "source": [
    "def positivize(histogram):                                                                                                                                                                                                                                                      \n",
    "    output = histogram.Clone()                                                                                                                                                                                                                                                  \n",
    "    for i in range(output.GetSize()):                                                                                                                                                                                                                                           \n",
    "        if output.GetArray()[i] < 0:                                                                                                                                                                                                                                            \n",
    "            output.AddAt(0, i)                                                                                                                                                                                                                                                  \n",
    "    return output"
   ]
  },
  {
   "cell_type": "code",
   "execution_count": 6,
   "metadata": {},
   "outputs": [
    {
     "name": "stderr",
     "output_type": "stream",
     "text": [
      "Warning in <TCanvas::Constructor>: Deleting canvas with same name: canvas\n"
     ]
    }
   ],
   "source": [
    "canvas = TCanvas(\"canvas\",\"canvas\",800,800)\n",
    "fdata = TFile('QCD_Pt-20toInf_MuEnrichedPt15_TuneCP5_13TeV_pythia8_v14-v1.root')\n",
    "femb = TFile('embedded_EmbeddingRun2017B_ElTauFinalState.root')\n",
    "fmc = TFile('MC.root')\n",
    "\n",
    "f = TFile('Eta.root',\"RECREATE\")\n",
    "f.cd()\n",
    "\n",
    "hdata = fdata.Get('TightOS0Jet/eEta')\n",
    "hemb = femb.Get('TightOS0Jet/eEta')\n",
    "hembt = femb.Get('TauLooseOS0Jet/eEta')\n",
    "hembe = femb.Get('EleLooseOS0Jet/eEta')\n",
    "hembet = femb.Get('EleLooseTauLooseOS0Jet/eEta')\n",
    "hembf = hembt.Clone()\n",
    "hembf.Add(hembe)\n",
    "hembf.Add(hembet, -1)\n",
    "hembf = positivize(hembf)\n",
    "he = hemb.Clone()\n",
    "he.Add(hembf, -1)\n",
    "htau = fdata.Get('TauLooseOS0Jet/eEta')\n",
    "hele = fdata.Get('EleLooseOS0Jet/eEta')\n",
    "het = fdata.Get('EleLooseTauLooseOS0Jet/eEta')\n",
    "hf = htau.Clone()\n",
    "hf.Add(hele)\n",
    "hf.Add(het, -1)\n",
    "hmc = fmc.Get('TightOS0Jet/eEta')\n",
    "hmct = fmc.Get('TauLooseOS0Jet/eEta')\n",
    "hmce = fmc.Get('EleLooseOS0Jet/eEta')\n",
    "hmcet = fmc.Get('EleLooseTauLooseOS0Jet/eEta')\n",
    "hmcf = hmct.Clone()\n",
    "hmcf.Add(hmce)\n",
    "hmcf.Add(hmcet, -1)\n",
    "hmcf = positivize(hmcf)\n",
    "hm = hmc.Clone()\n",
    "hm.Add(hmcf, -1)\n",
    "hb = hm.Clone()\n",
    "hb.Add(hf)\n",
    "hed = hdata.Clone()\n",
    "hed.Add(hb, -1)\n",
    "hed.Divide(he)\n",
    "hed.SetName(\"0Jet\")\n",
    "hed.Write()\n",
    "\n",
    "hdata = fdata.Get('TightOS1Jet/eEta')\n",
    "hemb = femb.Get('TightOS1Jet/eEta')\n",
    "hembt = femb.Get('TauLooseOS1Jet/eEta')\n",
    "hembe = femb.Get('EleLooseOS1Jet/eEta')\n",
    "hembet = femb.Get('EleLooseTauLooseOS1Jet/eEta')\n",
    "hembf = hembt.Clone()\n",
    "hembf.Add(hembe)\n",
    "hembf.Add(hembet, -1)\n",
    "hembf = positivize(hembf)\n",
    "he = hemb.Clone()\n",
    "he.Add(hembf, -1)\n",
    "htau = fdata.Get('TauLooseOS1Jet/eEta')\n",
    "hele = fdata.Get('EleLooseOS1Jet/eEta')\n",
    "het = fdata.Get('EleLooseTauLooseOS1Jet/eEta')\n",
    "hf = htau.Clone()\n",
    "hf.Add(hele)\n",
    "hf.Add(het, -1)\n",
    "hmc = fmc.Get('TightOS1Jet/eEta')\n",
    "hmct = fmc.Get('TauLooseOS1Jet/eEta')\n",
    "hmce = fmc.Get('EleLooseOS1Jet/eEta')\n",
    "hmcet = fmc.Get('EleLooseTauLooseOS1Jet/eEta')\n",
    "hmcf = hmct.Clone()\n",
    "hmcf.Add(hmce)\n",
    "hmcf.Add(hmcet, -1)\n",
    "hmcf = positivize(hmcf)\n",
    "hm = hmc.Clone()\n",
    "hm.Add(hmcf, -1)\n",
    "hb = hm.Clone()\n",
    "hb.Add(hf)\n",
    "hed = hdata.Clone()\n",
    "hed.Add(hb, -1)\n",
    "hed.Divide(he)\n",
    "hed.SetName(\"1Jet\")\n",
    "hed.Write()\n",
    "\n",
    "hdata = fdata.Get('TightOS2Jet/eEta')\n",
    "hemb = femb.Get('TightOS2Jet/eEta')\n",
    "hembt = femb.Get('TauLooseOS2Jet/eEta')\n",
    "hembe = femb.Get('EleLooseOS2Jet/eEta')\n",
    "hembet = femb.Get('EleLooseTauLooseOS2Jet/eEta')\n",
    "hembf = hembt.Clone()\n",
    "hembf.Add(hembe)\n",
    "hembf.Add(hembet, -1)\n",
    "hembf = positivize(hembf)\n",
    "he = hemb.Clone()\n",
    "he.Add(hembf, -1)\n",
    "htau = fdata.Get('TauLooseOS2Jet/eEta')\n",
    "hele = fdata.Get('EleLooseOS2Jet/eEta')\n",
    "het = fdata.Get('EleLooseTauLooseOS2Jet/eEta')\n",
    "hf = htau.Clone()\n",
    "hf.Add(hele)\n",
    "hf.Add(het, -1)\n",
    "hmc = fmc.Get('TightOS2Jet/eEta')\n",
    "hmct = fmc.Get('TauLooseOS2Jet/eEta')\n",
    "hmce = fmc.Get('EleLooseOS2Jet/eEta')\n",
    "hmcet = fmc.Get('EleLooseTauLooseOS2Jet/eEta')\n",
    "hmcf = hmct.Clone()\n",
    "hmcf.Add(hmce)\n",
    "hmcf.Add(hmcet, -1)\n",
    "hmcf = positivize(hmcf)\n",
    "hm = hmc.Clone()\n",
    "hm.Add(hmcf, -1)\n",
    "hb = hm.Clone()\n",
    "hb.Add(hf)\n",
    "hed = hdata.Clone()\n",
    "hed.Add(hb, -1)\n",
    "hed.Divide(he)\n",
    "hed.SetName(\"2Jet\")\n",
    "hed.Write()\n",
    "f.Close()"
   ]
  },
  {
   "cell_type": "code",
   "execution_count": null,
   "metadata": {},
   "outputs": [],
   "source": []
  }
 ],
 "metadata": {
  "kernelspec": {
   "display_name": "Python 2",
   "language": "python",
   "name": "python2"
  },
  "language_info": {
   "codemirror_mode": {
    "name": "ipython",
    "version": 2
   },
   "file_extension": ".py",
   "mimetype": "text/x-python",
   "name": "python",
   "nbconvert_exporter": "python",
   "pygments_lexer": "ipython2",
   "version": "2.7.14+"
  }
 },
 "nbformat": 4,
 "nbformat_minor": 2
}
