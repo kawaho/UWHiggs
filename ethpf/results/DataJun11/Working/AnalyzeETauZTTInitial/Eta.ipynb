{
 "cells": [
  {
   "cell_type": "code",
   "execution_count": 1,
   "metadata": {},
   "outputs": [
    {
     "name": "stdout",
     "output_type": "stream",
     "text": [
      "Welcome to JupyROOT 6.12/07\n"
     ]
    }
   ],
   "source": [
    "import os\n",
    "from sys import argv, stdout, stderr\n",
    "from ROOT import TFile, gROOT, TCanvas, TLegend\n",
    "import sys                                                                                                                                                                                                                                                  \n",
    "gROOT.SetStyle(\"Plain\")                                                                                                                                                                                                                                           \n",
    "gROOT.SetBatch(True)"
   ]
  },
  {
   "cell_type": "code",
   "execution_count": 2,
   "metadata": {},
   "outputs": [],
   "source": [
    "def positivize(histogram):                                                                                                                                                                                                                                                      \n",
    "    output = histogram.Clone()                                                                                                                                                                                                                                                  \n",
    "    for i in range(output.GetSize()):                                                                                                                                                                                                                                           \n",
    "        if output.GetArray()[i] < 0:                                                                                                                                                                                                                                            \n",
    "            output.AddAt(0, i)                                                                                                                                                                                                                                                  \n",
    "    return output"
   ]
  },
  {
   "cell_type": "code",
   "execution_count": 4,
   "metadata": {},
   "outputs": [
    {
     "name": "stderr",
     "output_type": "stream",
     "text": [
      "Warning in <TCanvas::Constructor>: Deleting canvas with same name: canvas\n"
     ]
    },
    {
     "data": {
      "image/png": "[encoded data removed]",
      "text/plain": [
       "<IPython.core.display.Image object>"
      ]
     },
     "metadata": {},
     "output_type": "display_data"
    }
   ],
   "source": [
    "canvas = TCanvas(\"canvas\",\"canvas\",800,800)\n",
    "fdata = TFile('QCD_Pt-20toInf_MuEnrichedPt15_TuneCP5_13TeV_pythia8_v14-v1.root')\n",
    "femb = TFile('embedded_EmbeddingRun2017B_ElTauFinalState.root')\n",
    "fmc = TFile('MC.root')\n",
    "\n",
    "hdata = fdata.Get('TightOS/eEta')\n",
    "\n",
    "hemb = femb.Get('TightOS/eEta')\n",
    "hembt = femb.Get('TauLooseOS/eEta')\n",
    "hembe = femb.Get('EleLooseOS/eEta')\n",
    "hembet = femb.Get('EleLooseTauLooseOS/eEta')\n",
    "hembf = hembt.Clone()\n",
    "hembf.Add(hembe)\n",
    "hembf.Add(hembet, -1)\n",
    "hembf = positivize(hembf)\n",
    "he = hemb.Clone()\n",
    "he.Add(hembf, -1)\n",
    "\n",
    "htau = fdata.Get('TauLooseOS/eEta')\n",
    "hele = fdata.Get('EleLooseOS/eEta')\n",
    "het = fdata.Get('EleLooseTauLooseOS/eEta')\n",
    "hf = htau.Clone()\n",
    "hf.Add(hele)\n",
    "hf.Add(het, -1)\n",
    "\n",
    "hmc = fmc.Get('TightOS/eEta')\n",
    "hmct = fmc.Get('TauLooseOS/eEta')\n",
    "hmce = fmc.Get('EleLooseOS/eEta')\n",
    "hmcet = fmc.Get('EleLooseTauLooseOS/eEta')\n",
    "hmcf = hmct.Clone()\n",
    "hmcf.Add(hmce)\n",
    "hmcf.Add(hmcet, -1)\n",
    "hmcf = positivize(hmcf)\n",
    "hm = hmc.Clone()\n",
    "hm.Add(hmcf, -1)\n",
    "\n",
    "hb = hm.Clone()\n",
    "hb.Add(hf)\n",
    "\n",
    "hed = hdata.Clone()\n",
    "hed.Add(hb, -1)\n",
    "hed.Divide(he)\n",
    "\n",
    "hdata.Delete()\n",
    "hmc.Delete()\n",
    "hmct.Delete()\n",
    "hmce.Delete()\n",
    "hmcet.Delete()\n",
    "hmcf.Delete()\n",
    "hm.Delete()\n",
    "hemb.Delete()\n",
    "hembt.Delete()\n",
    "hembe.Delete()\n",
    "hembet.Delete()\n",
    "hembf.Delete()\n",
    "he.Delete()\n",
    "htau.Delete()\n",
    "hele.Delete()\n",
    "het.Delete()\n",
    "hf.Delete()\n",
    "hb.Delete()\n",
    "\n",
    "f = TFile('Eta.root',\"RECREATE\")\n",
    "f.cd()\n",
    "hed.Draw()\n",
    "#print h.GetBinContent(19)\n",
    "#print h.GetXaxis().FindBin(-2.1)\n",
    "canvas.Draw()\n",
    "hed.Write()\n",
    "f.Close()"
   ]
  },
  {
   "cell_type": "code",
   "execution_count": null,
   "metadata": {},
   "outputs": [],
   "source": []
  }
 ],
 "metadata": {
  "kernelspec": {
   "display_name": "Python 2",
   "language": "python",
   "name": "python2"
  },
  "language_info": {
   "codemirror_mode": {
    "name": "ipython",
    "version": 2
   },
   "file_extension": ".py",
   "mimetype": "text/x-python",
   "name": "python",
   "nbconvert_exporter": "python",
   "pygments_lexer": "ipython2",
   "version": "2.7.14+"
  }
 },
 "nbformat": 4,
 "nbformat_minor": 2
}
