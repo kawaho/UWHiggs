{
 "cells": [
  {
   "cell_type": "code",
   "execution_count": 18,
   "metadata": {},
   "outputs": [],
   "source": [
    "import os\n",
    "from sys import argv, stdout, stderr\n",
    "from ROOT import TFile, gROOT, TCanvas, TLegend\n",
    "import glob\n",
    "import sys                                                                                                                                                                                                                                                  \n",
    "gROOT.SetStyle(\"Plain\")                                                                                                                                                                                                                                           \n",
    "gROOT.SetBatch(True)"
   ]
  },
  {
   "cell_type": "code",
   "execution_count": 15,
   "metadata": {},
   "outputs": [
    {
     "name": "stdout",
     "output_type": "stream",
     "text": [
      "0.0\n",
      "0.737537801266\n",
      "0.0\n",
      "0.0\n"
     ]
    }
   ],
   "source": [
    "fdy = TFile('DY4JetsToLL_M-50_TuneCP5_13TeV-madgraphMLM-pythia8_v2-PU2017_12Apr2018_v2_94X_mc2017_realistic_v14-v2.root')\n",
    "hdy = fdy.Get('TightOS1Jet/e_t_CollinearMass')\n",
    "print(hdy.GetBinContent(26))\n",
    "hdy1 = fdy.Get('TauLooseOS1Jet/e_t_CollinearMass')\n",
    "print(hdy1.GetBinContent(26))\n",
    "hdy2 = fdy.Get('EleLooseOS1Jet/e_t_CollinearMass')\n",
    "print(hdy2.GetBinContent(26))\n",
    "hdy2 = fdy.Get('EleLooseTauLooseOS1Jet/e_t_CollinearMass')\n",
    "print(hdy2.GetBinContent(26))"
   ]
  },
  {
   "cell_type": "code",
   "execution_count": 21,
   "metadata": {},
   "outputs": [
    {
     "name": "stdout",
     "output_type": "stream",
     "text": [
      "DYJetsToLL_M-50_TuneCP5_13TeV-madgraphMLM*\n",
      "DYJetsToLL_M-10to50*\n",
      "DY1JetsToLL*\n",
      "DY2JetsToLL*\n",
      "DY3JetsToLL*\n",
      "DY4JetsToLL*\n"
     ]
    },
    {
     "ename": "NameError",
     "evalue": "name 'outputdir' is not defined",
     "output_type": "error",
     "traceback": [
      "\u001b[0;31m\u001b[0m",
      "\u001b[0;31mNameError\u001b[0mTraceback (most recent call last)",
      "\u001b[0;32m<ipython-input-21-b90aacea7a2d>\u001b[0m in \u001b[0;36m<module>\u001b[0;34m()\u001b[0m\n\u001b[1;32m     24\u001b[0m     \u001b[0ms4\u001b[0m \u001b[0;34m=\u001b[0m \u001b[0;34m'EleLooseTauLooseOS'\u001b[0m\u001b[0;34m+\u001b[0m\u001b[0mj\u001b[0m\u001b[0;34m\u001b[0m\u001b[0m\n\u001b[1;32m     25\u001b[0m \u001b[0;34m\u001b[0m\u001b[0m\n\u001b[0;32m---> 26\u001b[0;31m     \u001b[0mplotter\u001b[0m \u001b[0;34m=\u001b[0m \u001b[0mPlotter\u001b[0m\u001b[0;34m(\u001b[0m\u001b[0mfiles\u001b[0m\u001b[0;34m,\u001b[0m \u001b[0mlumifiles\u001b[0m\u001b[0;34m,\u001b[0m \u001b[0moutputdir\u001b[0m\u001b[0;34m)\u001b[0m\u001b[0;34m\u001b[0m\u001b[0m\n\u001b[0m\u001b[1;32m     27\u001b[0m \u001b[0;34m\u001b[0m\u001b[0m\n\u001b[1;32m     28\u001b[0m     \u001b[0mDYtotal\u001b[0m \u001b[0;34m=\u001b[0m \u001b[0mviews\u001b[0m\u001b[0;34m.\u001b[0m\u001b[0mSumView\u001b[0m\u001b[0;34m(\u001b[0m \u001b[0;34m*\u001b[0m\u001b[0;34m[\u001b[0m \u001b[0mplotter\u001b[0m\u001b[0;34m.\u001b[0m\u001b[0mget_view\u001b[0m\u001b[0;34m(\u001b[0m\u001b[0mregex\u001b[0m\u001b[0;34m)\u001b[0m \u001b[0;32mfor\u001b[0m \u001b[0mregex\u001b[0m \u001b[0;32min\u001b[0m \u001b[0mfilter\u001b[0m\u001b[0;34m(\u001b[0m\u001b[0;32mlambda\u001b[0m \u001b[0mx\u001b[0m \u001b[0;34m:\u001b[0m  \u001b[0mx\u001b[0m\u001b[0;34m.\u001b[0m\u001b[0mstartswith\u001b[0m\u001b[0;34m(\u001b[0m\u001b[0;34m'DY1'\u001b[0m\u001b[0;34m)\u001b[0m \u001b[0;32mor\u001b[0m \u001b[0mx\u001b[0m\u001b[0;34m.\u001b[0m\u001b[0mstartswith\u001b[0m\u001b[0;34m(\u001b[0m\u001b[0;34m'DY2'\u001b[0m\u001b[0;34m)\u001b[0m \u001b[0;32mor\u001b[0m \u001b[0mx\u001b[0m\u001b[0;34m.\u001b[0m\u001b[0mstartswith\u001b[0m\u001b[0;34m(\u001b[0m\u001b[0;34m'DY3'\u001b[0m\u001b[0;34m)\u001b[0m \u001b[0;32mor\u001b[0m \u001b[0mx\u001b[0m\u001b[0;34m.\u001b[0m\u001b[0mstartswith\u001b[0m\u001b[0;34m(\u001b[0m\u001b[0;34m'DY4'\u001b[0m\u001b[0;34m)\u001b[0m \u001b[0;32mor\u001b[0m \u001b[0mx\u001b[0m\u001b[0;34m.\u001b[0m\u001b[0mstartswith\u001b[0m\u001b[0;34m(\u001b[0m\u001b[0;34m'DYJetsToLL_M-50'\u001b[0m\u001b[0;34m)\u001b[0m \u001b[0;32mor\u001b[0m \u001b[0mx\u001b[0m\u001b[0;34m.\u001b[0m\u001b[0mstartswith\u001b[0m\u001b[0;34m(\u001b[0m\u001b[0;34m'DYJetsToLL_M-10to50'\u001b[0m\u001b[0;34m)\u001b[0m\u001b[0;34m,\u001b[0m \u001b[0mmc_samples\u001b[0m\u001b[0;34m)\u001b[0m\u001b[0;34m]\u001b[0m\u001b[0;34m)\u001b[0m\u001b[0;34m\u001b[0m\u001b[0m\n",
      "\u001b[0;31mNameError\u001b[0m: name 'outputdir' is not defined"
     ]
    }
   ],
   "source": [
    "import rootpy.plotting.views as views                                                                                                                                                                                                                               \n",
    "from FinalStateAnalysis.PlotTools.Plotter import Plotter                                                                                                                                                                                                            \n",
    "from FinalStateAnalysis.PlotTools.RebinView import RebinView                                                                                                                                                                                                        \n",
    "from FinalStateAnalysis.PlotTools.SubtractionView import SubtractionView, PositiveView                                                                                                                                                                              \n",
    "from FinalStateAnalysis.MetaData.data_styles import data_styles, colors                                                                                                                                                                                             \n",
    "from FinalStateAnalysis.PlotTools.decorators import memo                                                                                                                                                                                                            \n",
    "                                                                                                                                                                                                                                                                    \n",
    "mc_samples = ['DYJetsToLL_M-50_TuneCP5_13TeV-madgraphMLM*', 'DYJetsToLL_M-10to50*', 'DY1JetsToLL*', 'DY2JetsToLL*', 'DY3JetsToLL*', 'DY4JetsToLL*']                                                                                                                                                                                                                     \n",
    "files=[]                                                                                                                                                                                                                                                            \n",
    "lumifiles=[]                                                                                                                                                                                                                                                        \n",
    "channel = ['']                                                                                                                                                                                                                                                      \n",
    "                                                                                                                                                                                                                                                                    \n",
    "for x in mc_samples:                                                                                                                                                                                                                                                \n",
    "    print x                                                                                                                                                                                                                                                         \n",
    "    files.extend(glob.glob(x))                                                                                                                                                                                         \n",
    "    lumifiles.extend(glob.glob('../../../inputs/DataJun11/%s.lumicalc.sum' % (x)))                                                                                                                                                                                        \n",
    "                                                                                                                                                                                                                                                                    \n",
    "jet = ['', '0Jet', '1Jet', '2Jet', '2JetVBF']                                                                                                                                                                                                                       \n",
    "                                                                                                                                                                                                                                                                    \n",
    "for j in jet:                                                                                                                                                                                                                                                       \n",
    "    s1 = 'TightOS'+j                                                                                                                                                                                                                                                \n",
    "    s2 = 'TauLooseOS'+j                                                                                                                                                                                                                                             \n",
    "    s3 = 'EleLooseOS'+j                                                                                                                                                                                                                                             \n",
    "    s4 = 'EleLooseTauLooseOS'+j                                                                                                                                                                                                                                     \n",
    "                                                                                                                                                                                                                                                                    \n",
    "    plotter = Plotter(files, lumifiles, outputdir)                                                                                                                                                                                                                  \n",
    "                                                                                                                                                                                                                                                                    \n",
    "    DYtotal = views.SumView( *[ plotter.get_view(regex) for regex in filter(lambda x :  x.startswith('DY1') or x.startswith('DY2') or x.startswith('DY3') or x.startswith('DY4') or x.startswith('DYJetsToLL_M-50') or x.startswith('DYJetsToLL_M-10to50'), mc_samp\\\n",
    "les)])                                                                                                                                                                                                                                                              \n",
    "    DYall = views.SubdirectoryView(DYtotal, s1)                                                                                                                                                                                                                     \n",
    "    DYtfakes = views.SubdirectoryView(DYtotal, s2)                                                                                                                                                                                                                  \n",
    "    DYefakes = views.SubdirectoryView(DYtotal, s3)                                                                                                                                                                                                                  \n",
    "    DYetfakes = views.SubdirectoryView(DYtotal, s4)                                                                                                                                                                                                                 \n",
    "    DYet = views.SumView(DYtfakes, DYefakes)                                                                                                                                                                                                                        \n",
    "    DYfakes = SubtractionView(DYet, DYetfakes, restrict_positive=True)                                                                                                                                                                                              \n",
    "    DY = views.StyleView(SubtractionView(DYall, DYfakes, restrict_positive=True), **remove_name_entry(data_styles['DY*']))                                                                                                                                          \n",
    "    DY = views.TitleView(DY, \"Z#rightarrow#mu#mu/ee\")                                                                                                                                                                                                               \n",
    "\n",
    "    histoname = [(\"e_t_CollinearMass\", \"M_{col}(e, #tau) (GeV)\", 1)]\n",
    "    \n",
    "    plotter.plot_mc_vs_data(fn, ['VBF_LFV_HToETau_M125*', 'GluGlu_LFV_HToETau_M125*'], h[0], 1, xaxis = h[1], leftside=False, xrange=None, preprocess=None, show_ratio=True, ratio_range=1.5, sort=True, blind_region=True, control=s1, jets=j, channel='et\\\n",
    "auh')"
   ]
  },
  {
   "cell_type": "code",
   "execution_count": null,
   "metadata": {},
   "outputs": [],
   "source": []
  }
 ],
 "metadata": {
  "kernelspec": {
   "display_name": "Python 2",
   "language": "python",
   "name": "python2"
  },
  "language_info": {
   "codemirror_mode": {
    "name": "ipython",
    "version": 2
   },
   "file_extension": ".py",
   "mimetype": "text/x-python",
   "name": "python",
   "nbconvert_exporter": "python",
   "pygments_lexer": "ipython2",
   "version": "2.7.14+"
  }
 },
 "nbformat": 4,
 "nbformat_minor": 2
}
