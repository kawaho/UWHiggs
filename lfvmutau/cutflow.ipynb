{
 "cells": [
  {
   "cell_type": "code",
   "execution_count": 1,
   "metadata": {
    "collapsed": false
   },
   "outputs": [
    {
     "data": {
      "text/plain": [
       "['GluGlu_LFV_HToMuTau_M125_13TeV_powheg_pythia8_v11-v1.root',\n",
       " 'VBFHToTauTau_M125_13TeV_powheg_pythia8_v10-v1.root',\n",
       " 'WminusHToTauTau_M125_13TeV_powheg_pythia8_v11-v1.root',\n",
       " 'WplusHToTauTau_M125_13TeV_powheg_pythia8_v11-v1.root',\n",
       " 'GluGluHToTauTau_M125_13TeV_powheg_pythia8_v10-v1.root',\n",
       " 'WWTo1L1Nu2Q_13TeV_amcatnloFXFX_madspin_pythia8_v10-v1.root',\n",
       " 'ZHToTauTau_M125_13TeV_powheg_pythia8_v11-v1.root',\n",
       " 'ST_t-channel_antitop_4f_inclusiveDecays_TuneCP5_13TeV-powhegV2-madspin-pythia8_v10-v1.root',\n",
       " 'ST_t-channel_top_4f_inclusiveDecays_TuneCP5_13TeV-powhegV2-madspin-pythia8_v10-v1.root',\n",
       " 'ST_tW_top_5f_inclusiveDecays_TuneCP5_13TeV-powheg-pythia8_v10-v1.root',\n",
       " 'WZTo1L1Nu2Q_13TeV_amcatnloFXFX_madspin_pythia8_v10-v1.root',\n",
       " 'WZTo2L2Q_13TeV_amcatnloFXFX_madspin_pythia8_v11-v1.root',\n",
       " 'ttHToTauTau_M125_TuneCP5_13TeV-powheg-pythia8_v11-v1.root',\n",
       " 'VBF_LFV_HToMuTau_M125_13TeV_powheg_pythia8_v11-v1.root',\n",
       " 'DY2JetsToLL_M-50_TuneCP5_13TeV-madgraphMLM-pythia8.root',\n",
       " 'DY3JetsToLL_M-50_TuneCP5_13TeV-madgraphMLM-pythia8_v10-v2.root',\n",
       " 'DY4JetsToLL_M-50_TuneCP5_13TeV-madgraphMLM-pythia8_v10-v1.root',\n",
       " 'W4JetsToLNu_TuneCP5_13TeV-madgraphMLM-pythia8_v10-v1.root',\n",
       " 'W3JetsToLNu_TuneCP5_13TeV-madgraphMLM-pythia8_v10-v3.root',\n",
       " 'DY1JetsToLL_M-50_TuneCP5_13TeV-madgraphMLM-pythia8.root',\n",
       " 'WJetsToLNu_2J_TuneCP5_13TeV-amcatnloFXFX-pythia8_v11-v1.root',\n",
       " 'W1JetsToLNu_LHEWpT_50-150_TuneCP5_13TeV-amcnloFXFX-pythia8.root',\n",
       " 'TTJets_TuneCP5_13TeV-amcatnloFXFX-pythia8_v10-v1.root',\n",
       " 'DYJetsToLL_M-50_TuneCP5_13TeV-amcatnloFXFX-pythia8.root',\n",
       " 'ZZTo2L2Q_13TeV_amcatnloFXFX_madspin_pythia8_v11-v1.root',\n",
       " 'ST_tW_antitop_5f_inclusiveDecays_TuneCP5_13TeV-powheg-pythia8_v10-v1.root',\n",
       " 'W2JetsToLNu_LHEWpT_50-150_TuneCP5_13TeV-amcnloFXFX-pythia8.root']"
      ]
     },
     "execution_count": 1,
     "metadata": {},
     "output_type": "execute_result"
    }
   ],
   "source": [
    "from os import listdir\n",
    "mypath = \"results/combined_mc/NewAnalyzeMuTau/\"\n",
    "onlyfiles = [f for f in listdir(mypath)]\n",
    "onlyfiles"
   ]
  },
  {
   "cell_type": "code",
   "execution_count": 2,
   "metadata": {
    "collapsed": false
   },
   "outputs": [
    {
     "name": "stdout",
     "output_type": "stream",
     "text": [
      "Welcome to JupyROOT 6.10/09\n"
     ]
    }
   ],
   "source": [
    "from ROOT import TFile, TIter, TCanvas, gROOT, gStyle\n",
    "gROOT.SetStyle(\"Default\")\n",
    "gROOT.SetBatch(True)\n",
    "gStyle.SetOptTitle(0)"
   ]
  },
  {
   "cell_type": "code",
   "execution_count": 3,
   "metadata": {
    "collapsed": false
   },
   "outputs": [
    {
     "name": "stderr",
     "output_type": "stream",
     "text": [
      "Info in <TCanvas::Print>: ps file cutflow.ps has been created\n",
      "Info in <TCanvas::Print>: Current canvas added to ps file cutflow.ps\n",
      "Info in <TCanvas::Print>: Current canvas added to ps file cutflow.ps\n",
      "Info in <TCanvas::Print>: Current canvas added to ps file cutflow.ps\n",
      "Info in <TCanvas::Print>: Current canvas added to ps file cutflow.ps\n",
      "Info in <TCanvas::Print>: Current canvas added to ps file cutflow.ps\n",
      "Info in <TCanvas::Print>: Current canvas added to ps file cutflow.ps\n",
      "Info in <TCanvas::Print>: Current canvas added to ps file cutflow.ps\n",
      "Info in <TCanvas::Print>: Current canvas added to ps file cutflow.ps\n",
      "Info in <TCanvas::Print>: Current canvas added to ps file cutflow.ps\n",
      "Info in <TCanvas::Print>: Current canvas added to ps file cutflow.ps\n",
      "Info in <TCanvas::Print>: Current canvas added to ps file cutflow.ps\n",
      "Info in <TCanvas::Print>: Current canvas added to ps file cutflow.ps\n",
      "Info in <TCanvas::Print>: Current canvas added to ps file cutflow.ps\n",
      "Info in <TCanvas::Print>: Current canvas added to ps file cutflow.ps\n",
      "Info in <TCanvas::Print>: Current canvas added to ps file cutflow.ps\n",
      "Info in <TCanvas::Print>: Current canvas added to ps file cutflow.ps\n",
      "Info in <TCanvas::Print>: Current canvas added to ps file cutflow.ps\n",
      "Info in <TCanvas::Print>: Current canvas added to ps file cutflow.ps\n",
      "Info in <TCanvas::Print>: Current canvas added to ps file cutflow.ps\n",
      "Info in <TCanvas::Print>: Current canvas added to ps file cutflow.ps\n",
      "Info in <TCanvas::Print>: Current canvas added to ps file cutflow.ps\n",
      "Info in <TCanvas::Print>: Current canvas added to ps file cutflow.ps\n",
      "Info in <TCanvas::Print>: Current canvas added to ps file cutflow.ps\n",
      "Info in <TCanvas::Print>: Current canvas added to ps file cutflow.ps\n",
      "Info in <TCanvas::Print>: Current canvas added to ps file cutflow.ps\n",
      "Info in <TCanvas::Print>: Current canvas added to ps file cutflow.ps\n",
      "Info in <TCanvas::Print>: Current canvas added to ps file cutflow.ps\n",
      "Info in <TCanvas::Print>: ps file cutflow.ps has been closed\n"
     ]
    }
   ],
   "source": [
    "canvas = TCanvas(\"canvas\",\"canvas\",800,800)\n",
    "canvas.Print(\"cutflow.ps[\")\n",
    "for i,file in enumerate(onlyfiles): \n",
    "    MuTaufile = TFile(mypath+file)\n",
    "    cutflowhisto = MuTaufile.Get('./CUT_FLOW')\n",
    "    ind = file.index(\"13TeV\")\n",
    "    file =file[:ind-1]\n",
    "    cutflowhisto.GetYaxis().SetTitle(file)\n",
    "    cutflowhisto.GetYaxis().SetTitleOffset(1.5)\n",
    "    cutflowhisto.Draw(\"hist\")\n",
    "    canvas.Print(\"cutflow.ps\")\n",
    "canvas.Print(\"cutflow.ps]\")"
   ]
  },
  {
   "cell_type": "code",
   "execution_count": null,
   "metadata": {
    "collapsed": true
   },
   "outputs": [],
   "source": []
  }
 ],
 "metadata": {
  "kernelspec": {
   "display_name": "Python 2",
   "language": "python",
   "name": "python2"
  },
  "language_info": {
   "codemirror_mode": {
    "name": "ipython",
    "version": 2
   },
   "file_extension": ".py",
   "mimetype": "text/x-python",
   "name": "python",
   "nbconvert_exporter": "python",
   "pygments_lexer": "ipython2",
   "version": "2.7.11"
  }
 },
 "nbformat": 4,
 "nbformat_minor": 2
}
